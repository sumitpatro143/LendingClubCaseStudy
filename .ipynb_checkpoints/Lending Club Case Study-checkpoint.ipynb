{
 "cells": [
  {
   "cell_type": "code",
   "execution_count": 215,
   "id": "7c4e5967",
   "metadata": {},
   "outputs": [],
   "source": [
    "import pandas as pd\n",
    "import numpy as np\n",
    "import matplotlib.pyplot as plot\n",
    "import seaborn as sea\n",
    "import datetime as dt\n",
    "import warnings\n",
    "\n",
    "warnings.filterwarnings ('ignore')   # To ignore the warnings"
   ]
  },
  {
   "cell_type": "code",
   "execution_count": 216,
   "id": "b5183e85",
   "metadata": {},
   "outputs": [],
   "source": [
    "# Loading the data and converting it into dataframe\n",
    "\n",
    "loan_df = pd.read_csv('loan.csv')"
   ]
  },
  {
   "cell_type": "markdown",
   "id": "27d22033",
   "metadata": {},
   "source": [
    "# Data Cleaning"
   ]
  },
  {
   "cell_type": "code",
   "execution_count": 217,
   "id": "9be8f7f1",
   "metadata": {},
   "outputs": [
    {
     "data": {
      "text/html": [
       "<div>\n",
       "<style scoped>\n",
       "    .dataframe tbody tr th:only-of-type {\n",
       "        vertical-align: middle;\n",
       "    }\n",
       "\n",
       "    .dataframe tbody tr th {\n",
       "        vertical-align: top;\n",
       "    }\n",
       "\n",
       "    .dataframe thead th {\n",
       "        text-align: right;\n",
       "    }\n",
       "</style>\n",
       "<table border=\"1\" class=\"dataframe\">\n",
       "  <thead>\n",
       "    <tr style=\"text-align: right;\">\n",
       "      <th></th>\n",
       "      <th>id</th>\n",
       "      <th>member_id</th>\n",
       "      <th>loan_amnt</th>\n",
       "      <th>funded_amnt</th>\n",
       "      <th>funded_amnt_inv</th>\n",
       "      <th>term</th>\n",
       "      <th>int_rate</th>\n",
       "      <th>installment</th>\n",
       "      <th>grade</th>\n",
       "      <th>sub_grade</th>\n",
       "      <th>...</th>\n",
       "      <th>num_tl_90g_dpd_24m</th>\n",
       "      <th>num_tl_op_past_12m</th>\n",
       "      <th>pct_tl_nvr_dlq</th>\n",
       "      <th>percent_bc_gt_75</th>\n",
       "      <th>pub_rec_bankruptcies</th>\n",
       "      <th>tax_liens</th>\n",
       "      <th>tot_hi_cred_lim</th>\n",
       "      <th>total_bal_ex_mort</th>\n",
       "      <th>total_bc_limit</th>\n",
       "      <th>total_il_high_credit_limit</th>\n",
       "    </tr>\n",
       "  </thead>\n",
       "  <tbody>\n",
       "    <tr>\n",
       "      <th>0</th>\n",
       "      <td>1077501</td>\n",
       "      <td>1296599</td>\n",
       "      <td>5000</td>\n",
       "      <td>5000</td>\n",
       "      <td>4975.0</td>\n",
       "      <td>36 months</td>\n",
       "      <td>10.65%</td>\n",
       "      <td>162.87</td>\n",
       "      <td>B</td>\n",
       "      <td>B2</td>\n",
       "      <td>...</td>\n",
       "      <td>NaN</td>\n",
       "      <td>NaN</td>\n",
       "      <td>NaN</td>\n",
       "      <td>NaN</td>\n",
       "      <td>0.0</td>\n",
       "      <td>0.0</td>\n",
       "      <td>NaN</td>\n",
       "      <td>NaN</td>\n",
       "      <td>NaN</td>\n",
       "      <td>NaN</td>\n",
       "    </tr>\n",
       "    <tr>\n",
       "      <th>1</th>\n",
       "      <td>1077430</td>\n",
       "      <td>1314167</td>\n",
       "      <td>2500</td>\n",
       "      <td>2500</td>\n",
       "      <td>2500.0</td>\n",
       "      <td>60 months</td>\n",
       "      <td>15.27%</td>\n",
       "      <td>59.83</td>\n",
       "      <td>C</td>\n",
       "      <td>C4</td>\n",
       "      <td>...</td>\n",
       "      <td>NaN</td>\n",
       "      <td>NaN</td>\n",
       "      <td>NaN</td>\n",
       "      <td>NaN</td>\n",
       "      <td>0.0</td>\n",
       "      <td>0.0</td>\n",
       "      <td>NaN</td>\n",
       "      <td>NaN</td>\n",
       "      <td>NaN</td>\n",
       "      <td>NaN</td>\n",
       "    </tr>\n",
       "    <tr>\n",
       "      <th>2</th>\n",
       "      <td>1077175</td>\n",
       "      <td>1313524</td>\n",
       "      <td>2400</td>\n",
       "      <td>2400</td>\n",
       "      <td>2400.0</td>\n",
       "      <td>36 months</td>\n",
       "      <td>15.96%</td>\n",
       "      <td>84.33</td>\n",
       "      <td>C</td>\n",
       "      <td>C5</td>\n",
       "      <td>...</td>\n",
       "      <td>NaN</td>\n",
       "      <td>NaN</td>\n",
       "      <td>NaN</td>\n",
       "      <td>NaN</td>\n",
       "      <td>0.0</td>\n",
       "      <td>0.0</td>\n",
       "      <td>NaN</td>\n",
       "      <td>NaN</td>\n",
       "      <td>NaN</td>\n",
       "      <td>NaN</td>\n",
       "    </tr>\n",
       "    <tr>\n",
       "      <th>3</th>\n",
       "      <td>1076863</td>\n",
       "      <td>1277178</td>\n",
       "      <td>10000</td>\n",
       "      <td>10000</td>\n",
       "      <td>10000.0</td>\n",
       "      <td>36 months</td>\n",
       "      <td>13.49%</td>\n",
       "      <td>339.31</td>\n",
       "      <td>C</td>\n",
       "      <td>C1</td>\n",
       "      <td>...</td>\n",
       "      <td>NaN</td>\n",
       "      <td>NaN</td>\n",
       "      <td>NaN</td>\n",
       "      <td>NaN</td>\n",
       "      <td>0.0</td>\n",
       "      <td>0.0</td>\n",
       "      <td>NaN</td>\n",
       "      <td>NaN</td>\n",
       "      <td>NaN</td>\n",
       "      <td>NaN</td>\n",
       "    </tr>\n",
       "    <tr>\n",
       "      <th>4</th>\n",
       "      <td>1075358</td>\n",
       "      <td>1311748</td>\n",
       "      <td>3000</td>\n",
       "      <td>3000</td>\n",
       "      <td>3000.0</td>\n",
       "      <td>60 months</td>\n",
       "      <td>12.69%</td>\n",
       "      <td>67.79</td>\n",
       "      <td>B</td>\n",
       "      <td>B5</td>\n",
       "      <td>...</td>\n",
       "      <td>NaN</td>\n",
       "      <td>NaN</td>\n",
       "      <td>NaN</td>\n",
       "      <td>NaN</td>\n",
       "      <td>0.0</td>\n",
       "      <td>0.0</td>\n",
       "      <td>NaN</td>\n",
       "      <td>NaN</td>\n",
       "      <td>NaN</td>\n",
       "      <td>NaN</td>\n",
       "    </tr>\n",
       "  </tbody>\n",
       "</table>\n",
       "<p>5 rows × 111 columns</p>\n",
       "</div>"
      ],
      "text/plain": [
       "        id  member_id  loan_amnt  funded_amnt  funded_amnt_inv        term  \\\n",
       "0  1077501    1296599       5000         5000           4975.0   36 months   \n",
       "1  1077430    1314167       2500         2500           2500.0   60 months   \n",
       "2  1077175    1313524       2400         2400           2400.0   36 months   \n",
       "3  1076863    1277178      10000        10000          10000.0   36 months   \n",
       "4  1075358    1311748       3000         3000           3000.0   60 months   \n",
       "\n",
       "  int_rate  installment grade sub_grade  ... num_tl_90g_dpd_24m  \\\n",
       "0   10.65%       162.87     B        B2  ...                NaN   \n",
       "1   15.27%        59.83     C        C4  ...                NaN   \n",
       "2   15.96%        84.33     C        C5  ...                NaN   \n",
       "3   13.49%       339.31     C        C1  ...                NaN   \n",
       "4   12.69%        67.79     B        B5  ...                NaN   \n",
       "\n",
       "  num_tl_op_past_12m pct_tl_nvr_dlq  percent_bc_gt_75 pub_rec_bankruptcies  \\\n",
       "0                NaN            NaN               NaN                  0.0   \n",
       "1                NaN            NaN               NaN                  0.0   \n",
       "2                NaN            NaN               NaN                  0.0   \n",
       "3                NaN            NaN               NaN                  0.0   \n",
       "4                NaN            NaN               NaN                  0.0   \n",
       "\n",
       "  tax_liens tot_hi_cred_lim total_bal_ex_mort total_bc_limit  \\\n",
       "0       0.0             NaN               NaN            NaN   \n",
       "1       0.0             NaN               NaN            NaN   \n",
       "2       0.0             NaN               NaN            NaN   \n",
       "3       0.0             NaN               NaN            NaN   \n",
       "4       0.0             NaN               NaN            NaN   \n",
       "\n",
       "  total_il_high_credit_limit  \n",
       "0                        NaN  \n",
       "1                        NaN  \n",
       "2                        NaN  \n",
       "3                        NaN  \n",
       "4                        NaN  \n",
       "\n",
       "[5 rows x 111 columns]"
      ]
     },
     "execution_count": 217,
     "metadata": {},
     "output_type": "execute_result"
    }
   ],
   "source": [
    "# Summary of the loan data\n",
    "\n",
    "loan_df.head()"
   ]
  },
  {
   "cell_type": "code",
   "execution_count": 218,
   "id": "da8e5071",
   "metadata": {},
   "outputs": [
    {
     "data": {
      "text/html": [
       "<div>\n",
       "<style scoped>\n",
       "    .dataframe tbody tr th:only-of-type {\n",
       "        vertical-align: middle;\n",
       "    }\n",
       "\n",
       "    .dataframe tbody tr th {\n",
       "        vertical-align: top;\n",
       "    }\n",
       "\n",
       "    .dataframe thead th {\n",
       "        text-align: right;\n",
       "    }\n",
       "</style>\n",
       "<table border=\"1\" class=\"dataframe\">\n",
       "  <thead>\n",
       "    <tr style=\"text-align: right;\">\n",
       "      <th></th>\n",
       "      <th>id</th>\n",
       "      <th>member_id</th>\n",
       "      <th>loan_amnt</th>\n",
       "      <th>funded_amnt</th>\n",
       "      <th>funded_amnt_inv</th>\n",
       "      <th>term</th>\n",
       "      <th>int_rate</th>\n",
       "      <th>installment</th>\n",
       "      <th>grade</th>\n",
       "      <th>sub_grade</th>\n",
       "      <th>...</th>\n",
       "      <th>num_tl_90g_dpd_24m</th>\n",
       "      <th>num_tl_op_past_12m</th>\n",
       "      <th>pct_tl_nvr_dlq</th>\n",
       "      <th>percent_bc_gt_75</th>\n",
       "      <th>pub_rec_bankruptcies</th>\n",
       "      <th>tax_liens</th>\n",
       "      <th>tot_hi_cred_lim</th>\n",
       "      <th>total_bal_ex_mort</th>\n",
       "      <th>total_bc_limit</th>\n",
       "      <th>total_il_high_credit_limit</th>\n",
       "    </tr>\n",
       "  </thead>\n",
       "  <tbody>\n",
       "    <tr>\n",
       "      <th>39712</th>\n",
       "      <td>92187</td>\n",
       "      <td>92174</td>\n",
       "      <td>2500</td>\n",
       "      <td>2500</td>\n",
       "      <td>1075.0</td>\n",
       "      <td>36 months</td>\n",
       "      <td>8.07%</td>\n",
       "      <td>78.42</td>\n",
       "      <td>A</td>\n",
       "      <td>A4</td>\n",
       "      <td>...</td>\n",
       "      <td>NaN</td>\n",
       "      <td>NaN</td>\n",
       "      <td>NaN</td>\n",
       "      <td>NaN</td>\n",
       "      <td>NaN</td>\n",
       "      <td>NaN</td>\n",
       "      <td>NaN</td>\n",
       "      <td>NaN</td>\n",
       "      <td>NaN</td>\n",
       "      <td>NaN</td>\n",
       "    </tr>\n",
       "    <tr>\n",
       "      <th>39713</th>\n",
       "      <td>90665</td>\n",
       "      <td>90607</td>\n",
       "      <td>8500</td>\n",
       "      <td>8500</td>\n",
       "      <td>875.0</td>\n",
       "      <td>36 months</td>\n",
       "      <td>10.28%</td>\n",
       "      <td>275.38</td>\n",
       "      <td>C</td>\n",
       "      <td>C1</td>\n",
       "      <td>...</td>\n",
       "      <td>NaN</td>\n",
       "      <td>NaN</td>\n",
       "      <td>NaN</td>\n",
       "      <td>NaN</td>\n",
       "      <td>NaN</td>\n",
       "      <td>NaN</td>\n",
       "      <td>NaN</td>\n",
       "      <td>NaN</td>\n",
       "      <td>NaN</td>\n",
       "      <td>NaN</td>\n",
       "    </tr>\n",
       "    <tr>\n",
       "      <th>39714</th>\n",
       "      <td>90395</td>\n",
       "      <td>90390</td>\n",
       "      <td>5000</td>\n",
       "      <td>5000</td>\n",
       "      <td>1325.0</td>\n",
       "      <td>36 months</td>\n",
       "      <td>8.07%</td>\n",
       "      <td>156.84</td>\n",
       "      <td>A</td>\n",
       "      <td>A4</td>\n",
       "      <td>...</td>\n",
       "      <td>NaN</td>\n",
       "      <td>NaN</td>\n",
       "      <td>NaN</td>\n",
       "      <td>NaN</td>\n",
       "      <td>NaN</td>\n",
       "      <td>NaN</td>\n",
       "      <td>NaN</td>\n",
       "      <td>NaN</td>\n",
       "      <td>NaN</td>\n",
       "      <td>NaN</td>\n",
       "    </tr>\n",
       "    <tr>\n",
       "      <th>39715</th>\n",
       "      <td>90376</td>\n",
       "      <td>89243</td>\n",
       "      <td>5000</td>\n",
       "      <td>5000</td>\n",
       "      <td>650.0</td>\n",
       "      <td>36 months</td>\n",
       "      <td>7.43%</td>\n",
       "      <td>155.38</td>\n",
       "      <td>A</td>\n",
       "      <td>A2</td>\n",
       "      <td>...</td>\n",
       "      <td>NaN</td>\n",
       "      <td>NaN</td>\n",
       "      <td>NaN</td>\n",
       "      <td>NaN</td>\n",
       "      <td>NaN</td>\n",
       "      <td>NaN</td>\n",
       "      <td>NaN</td>\n",
       "      <td>NaN</td>\n",
       "      <td>NaN</td>\n",
       "      <td>NaN</td>\n",
       "    </tr>\n",
       "    <tr>\n",
       "      <th>39716</th>\n",
       "      <td>87023</td>\n",
       "      <td>86999</td>\n",
       "      <td>7500</td>\n",
       "      <td>7500</td>\n",
       "      <td>800.0</td>\n",
       "      <td>36 months</td>\n",
       "      <td>13.75%</td>\n",
       "      <td>255.43</td>\n",
       "      <td>E</td>\n",
       "      <td>E2</td>\n",
       "      <td>...</td>\n",
       "      <td>NaN</td>\n",
       "      <td>NaN</td>\n",
       "      <td>NaN</td>\n",
       "      <td>NaN</td>\n",
       "      <td>NaN</td>\n",
       "      <td>NaN</td>\n",
       "      <td>NaN</td>\n",
       "      <td>NaN</td>\n",
       "      <td>NaN</td>\n",
       "      <td>NaN</td>\n",
       "    </tr>\n",
       "  </tbody>\n",
       "</table>\n",
       "<p>5 rows × 111 columns</p>\n",
       "</div>"
      ],
      "text/plain": [
       "          id  member_id  loan_amnt  funded_amnt  funded_amnt_inv        term  \\\n",
       "39712  92187      92174       2500         2500           1075.0   36 months   \n",
       "39713  90665      90607       8500         8500            875.0   36 months   \n",
       "39714  90395      90390       5000         5000           1325.0   36 months   \n",
       "39715  90376      89243       5000         5000            650.0   36 months   \n",
       "39716  87023      86999       7500         7500            800.0   36 months   \n",
       "\n",
       "      int_rate  installment grade sub_grade  ... num_tl_90g_dpd_24m  \\\n",
       "39712    8.07%        78.42     A        A4  ...                NaN   \n",
       "39713   10.28%       275.38     C        C1  ...                NaN   \n",
       "39714    8.07%       156.84     A        A4  ...                NaN   \n",
       "39715    7.43%       155.38     A        A2  ...                NaN   \n",
       "39716   13.75%       255.43     E        E2  ...                NaN   \n",
       "\n",
       "      num_tl_op_past_12m pct_tl_nvr_dlq  percent_bc_gt_75  \\\n",
       "39712                NaN            NaN               NaN   \n",
       "39713                NaN            NaN               NaN   \n",
       "39714                NaN            NaN               NaN   \n",
       "39715                NaN            NaN               NaN   \n",
       "39716                NaN            NaN               NaN   \n",
       "\n",
       "      pub_rec_bankruptcies tax_liens tot_hi_cred_lim total_bal_ex_mort  \\\n",
       "39712                  NaN       NaN             NaN               NaN   \n",
       "39713                  NaN       NaN             NaN               NaN   \n",
       "39714                  NaN       NaN             NaN               NaN   \n",
       "39715                  NaN       NaN             NaN               NaN   \n",
       "39716                  NaN       NaN             NaN               NaN   \n",
       "\n",
       "      total_bc_limit total_il_high_credit_limit  \n",
       "39712            NaN                        NaN  \n",
       "39713            NaN                        NaN  \n",
       "39714            NaN                        NaN  \n",
       "39715            NaN                        NaN  \n",
       "39716            NaN                        NaN  \n",
       "\n",
       "[5 rows x 111 columns]"
      ]
     },
     "execution_count": 218,
     "metadata": {},
     "output_type": "execute_result"
    }
   ],
   "source": [
    "loan_df.tail()"
   ]
  },
  {
   "cell_type": "code",
   "execution_count": 219,
   "id": "629e19aa",
   "metadata": {},
   "outputs": [],
   "source": [
    "# From the above analysis we can say that there is no headers or footers rows."
   ]
  },
  {
   "cell_type": "code",
   "execution_count": 220,
   "id": "1e22a5c6",
   "metadata": {},
   "outputs": [
    {
     "data": {
      "text/plain": [
       "(39717, 111)"
      ]
     },
     "execution_count": 220,
     "metadata": {},
     "output_type": "execute_result"
    }
   ],
   "source": [
    "# Shape of the Loan DataFrame.\n",
    "\n",
    "loan_df.shape"
   ]
  },
  {
   "cell_type": "markdown",
   "id": "f4fed115",
   "metadata": {},
   "source": [
    "#### Number of Rows - 39717\n",
    "#### Number of Columns - 111"
   ]
  },
  {
   "cell_type": "code",
   "execution_count": 221,
   "id": "9b2b993a",
   "metadata": {},
   "outputs": [
    {
     "data": {
      "text/plain": [
       "Fully Paid     32950\n",
       "Charged Off     5627\n",
       "Current         1140\n",
       "Name: loan_status, dtype: int64"
      ]
     },
     "execution_count": 221,
     "metadata": {},
     "output_type": "execute_result"
    }
   ],
   "source": [
    "# To check if there is unnecessary rows or not.\n",
    "\n",
    "loan_df['loan_status'].value_counts()"
   ]
  },
  {
   "cell_type": "code",
   "execution_count": 222,
   "id": "961f8750",
   "metadata": {},
   "outputs": [
    {
     "name": "stdout",
     "output_type": "stream",
     "text": [
      "Total Number of Rows Now :  38577\n"
     ]
    }
   ],
   "source": [
    "# Removing the rows with loan_status = 'Current' as the loan currently inprogress and cannot judge if the loan is going bad or not.\n",
    "\n",
    "loan_df = loan_df[loan_df['loan_status'] != 'Current']\n",
    "print('Total Number of Rows Now : ', len(loan_df))      # Total number of rows after removing rows with loan_status 'Current'"
   ]
  },
  {
   "cell_type": "code",
   "execution_count": 223,
   "id": "64751837",
   "metadata": {},
   "outputs": [
    {
     "name": "stdout",
     "output_type": "stream",
     "text": [
      "Count of duplicate rows :  0\n"
     ]
    }
   ],
   "source": [
    "# Check is there any duplicate rows\n",
    "\n",
    "duplicate_rows = len(loan_df[loan_df.duplicated()])\n",
    "print('Count of duplicate rows : ', round(duplicate_rows))"
   ]
  },
  {
   "cell_type": "code",
   "execution_count": 224,
   "id": "7d7cb402",
   "metadata": {},
   "outputs": [
    {
     "data": {
      "text/plain": [
       "id                              0.0\n",
       "member_id                       0.0\n",
       "loan_amnt                       0.0\n",
       "funded_amnt                     0.0\n",
       "funded_amnt_inv                 0.0\n",
       "                              ...  \n",
       "tax_liens                       0.1\n",
       "tot_hi_cred_lim               100.0\n",
       "total_bal_ex_mort             100.0\n",
       "total_bc_limit                100.0\n",
       "total_il_high_credit_limit    100.0\n",
       "Length: 111, dtype: float64"
      ]
     },
     "execution_count": 224,
     "metadata": {},
     "output_type": "execute_result"
    }
   ],
   "source": [
    "# Will check the details of columns if they are nulls or blanks as value\n",
    "\n",
    "round((loan_df.isnull().sum()*100/len(loan_df)),2)"
   ]
  },
  {
   "cell_type": "code",
   "execution_count": 225,
   "id": "fe73bbfa",
   "metadata": {},
   "outputs": [
    {
     "name": "stdout",
     "output_type": "stream",
     "text": [
      "Total Number of Columns with Values NA :  55\n"
     ]
    }
   ],
   "source": [
    "# Number of columns with Null/Blank values\n",
    "\n",
    "print('Total Number of Columns with Values NA : ', len(loan_df.columns[loan_df.isnull().all()].tolist()))"
   ]
  },
  {
   "cell_type": "code",
   "execution_count": 226,
   "id": "878f8f7a",
   "metadata": {},
   "outputs": [
    {
     "data": {
      "text/plain": [
       "(38577, 56)"
      ]
     },
     "execution_count": 226,
     "metadata": {},
     "output_type": "execute_result"
    }
   ],
   "source": [
    "# After analysing there are 55 columns which is having all the value as null/blanks and no needed of that Columns.\n",
    "# Deleting the columns which is having all the value as null/blanks.\n",
    "\n",
    "loan_df = loan_df.dropna(axis = 1, how = 'all')\n",
    "loan_df.shape"
   ]
  },
  {
   "cell_type": "code",
   "execution_count": 227,
   "id": "b58edf9b",
   "metadata": {},
   "outputs": [
    {
     "data": {
      "text/plain": [
       "['id', 'member_id', 'url']"
      ]
     },
     "execution_count": 227,
     "metadata": {},
     "output_type": "execute_result"
    }
   ],
   "source": [
    "# lets find the columns whose value is unique in Nature.\n",
    "\n",
    "unique_columns = [col for col in loan_df.columns if loan_df[col].nunique() == len(loan_df)]\n",
    "unique_columns"
   ]
  },
  {
   "cell_type": "code",
   "execution_count": 228,
   "id": "6c0b6c20",
   "metadata": {},
   "outputs": [],
   "source": [
    "# As per above analysis we found 'id', 'member_id' and 'url' are columns which are having unique value.\n",
    "# So we will delete the 'member_id' and 'url' as it doesn't count in EDA. Will keep the id column.\n",
    "\n",
    "loan_df.drop(['url', 'member_id'], axis = 1, inplace = True)"
   ]
  },
  {
   "cell_type": "code",
   "execution_count": 229,
   "id": "004c2a04",
   "metadata": {},
   "outputs": [
    {
     "data": {
      "text/plain": [
       "(38577, 52)"
      ]
     },
     "execution_count": 229,
     "metadata": {},
     "output_type": "execute_result"
    }
   ],
   "source": [
    "# Will delete the column which is having text/description values as they not used in EDA.\n",
    "\n",
    "loan_df.drop(columns=['desc', 'title'], inplace=True)\n",
    "loan_df.shape"
   ]
  },
  {
   "cell_type": "code",
   "execution_count": 230,
   "id": "752e3749",
   "metadata": {},
   "outputs": [
    {
     "data": {
      "text/plain": [
       "(38577, 51)"
      ]
     },
     "execution_count": 230,
     "metadata": {},
     "output_type": "execute_result"
    }
   ],
   "source": [
    "# We will limit our analysis till group level. So we will remove the subgroups.\n",
    "loan_df = loan_df.drop(['sub_grade'], axis = 1)\n",
    "loan_df.shape"
   ]
  },
  {
   "cell_type": "code",
   "execution_count": 231,
   "id": "3d94dfc5",
   "metadata": {},
   "outputs": [
    {
     "data": {
      "text/plain": [
       "(38577, 29)"
      ]
     },
     "execution_count": 231,
     "metadata": {},
     "output_type": "execute_result"
    }
   ],
   "source": [
    "# Behavioural data is captured post loan approval and will not be available during the loan approval process. \n",
    "# Hence removing these fields.\n",
    "\n",
    "behavioural_cols = ['delinq_2yrs', 'earliest_cr_line', 'inq_last_6mths', 'open_acc', 'pub_rec', 'revol_util', 'revol_bal',\n",
    "                    'initial_list_status', 'out_prncp', 'out_prncp_inv', 'total_pymnt', 'total_pymnt_inv', 'total_rec_prncp', \n",
    "                    'total_rec_int', 'total_rec_late_fee', 'recoveries', 'collection_recovery_fee', 'last_pymnt_d', \n",
    "                    'last_credit_pull_d', 'application_type', 'last_pymnt_amnt', 'zip_code']\n",
    "\n",
    "loan_df = loan_df.drop(behavioural_cols, axis=1)\n",
    "loan_df.shape"
   ]
  },
  {
   "cell_type": "code",
   "execution_count": 232,
   "id": "07ff56bb",
   "metadata": {},
   "outputs": [
    {
     "data": {
      "text/plain": [
       "tax_liens                         1\n",
       "delinq_amnt                       1\n",
       "chargeoff_within_12_mths          1\n",
       "acc_now_delinq                    1\n",
       "policy_code                       1\n",
       "collections_12_mths_ex_med        1\n",
       "pymnt_plan                        1\n",
       "loan_status                       2\n",
       "term                              2\n",
       "verification_status               3\n",
       "pub_rec_bankruptcies              3\n",
       "home_ownership                    5\n",
       "grade                             7\n",
       "emp_length                       11\n",
       "purpose                          14\n",
       "addr_state                       50\n",
       "issue_d                          55\n",
       "total_acc                        82\n",
       "mths_since_last_delinq           95\n",
       "mths_since_last_record          111\n",
       "int_rate                        370\n",
       "loan_amnt                       870\n",
       "funded_amnt                    1019\n",
       "dti                            2853\n",
       "annual_inc                     5215\n",
       "funded_amnt_inv                8050\n",
       "installment                   15022\n",
       "emp_title                     28027\n",
       "id                            38577\n",
       "dtype: int64"
      ]
     },
     "execution_count": 232,
     "metadata": {},
     "output_type": "execute_result"
    }
   ],
   "source": [
    "loan_df.nunique().sort_values()"
   ]
  },
  {
   "cell_type": "code",
   "execution_count": 233,
   "id": "866933e9",
   "metadata": {},
   "outputs": [
    {
     "name": "stdout",
     "output_type": "stream",
     "text": [
      "pymnt_plan\n",
      "collections_12_mths_ex_med\n",
      "policy_code\n",
      "acc_now_delinq\n",
      "chargeoff_within_12_mths\n",
      "delinq_amnt\n",
      "tax_liens\n",
      "_______________\n"
     ]
    },
    {
     "data": {
      "text/plain": [
       "(38577, 22)"
      ]
     },
     "execution_count": 233,
     "metadata": {},
     "output_type": "execute_result"
    }
   ],
   "source": [
    "# As per above analysis most of the columns values is 1 so we will delete them as well.\n",
    "\n",
    "for column in loan_df.columns:\n",
    "    if loan_df[column].nunique(dropna=True) == 1:\n",
    "        print(column)\n",
    "        loan_df = loan_df.drop(column, axis=1)\n",
    "print(\"_______________\")\n",
    "loan_df.shape\n"
   ]
  },
  {
   "cell_type": "code",
   "execution_count": 234,
   "id": "9d8fc76b",
   "metadata": {},
   "outputs": [
    {
     "name": "stdout",
     "output_type": "stream",
     "text": [
      "mths_since_last_delinq\n",
      "mths_since_last_record\n"
     ]
    },
    {
     "data": {
      "text/plain": [
       "(38577, 20)"
      ]
     },
     "execution_count": 234,
     "metadata": {},
     "output_type": "execute_result"
    }
   ],
   "source": [
    "# Dropping the columns which is having more than 50% of value is null\n",
    "\n",
    "total_rows = len(loan_df)\n",
    "for column in loan_df.columns:\n",
    "    if loan_df[column].isnull().mean().round(2) >= 0.50:\n",
    "        print(column)\n",
    "        loan_df = loan_df.drop(column, axis=1)\n",
    "loan_df.shape"
   ]
  },
  {
   "cell_type": "code",
   "execution_count": 235,
   "id": "05b04f71",
   "metadata": {},
   "outputs": [
    {
     "name": "stdout",
     "output_type": "stream",
     "text": [
      "(38577, 20)\n",
      "Total Number of Rows :  38577\n",
      "Total Number of Columns :  20\n"
     ]
    }
   ],
   "source": [
    "# Number of Rows & Columns after removing.\n",
    "\n",
    "print(loan_df.shape)\n",
    "print('Total Number of Rows : ', len(loan_df))\n",
    "print('Total Number of Columns : ', len(loan_df.columns))"
   ]
  },
  {
   "cell_type": "code",
   "execution_count": 236,
   "id": "d4057937",
   "metadata": {},
   "outputs": [
    {
     "data": {
      "text/plain": [
       "(38577, 19)"
      ]
     },
     "execution_count": 236,
     "metadata": {},
     "output_type": "execute_result"
    }
   ],
   "source": [
    "# Deleting emp_title as its decription or textual information and not useful in EDA Analysis\n",
    "\n",
    "loan_df = loan_df.drop(['emp_title'], axis = 1)\n",
    "loan_df.shape"
   ]
  },
  {
   "cell_type": "markdown",
   "id": "f0eca3f2",
   "metadata": {},
   "source": [
    "### Data Formating"
   ]
  },
  {
   "cell_type": "code",
   "execution_count": 237,
   "id": "0636afb4",
   "metadata": {},
   "outputs": [
    {
     "data": {
      "text/plain": [
       "id                        int64\n",
       "loan_amnt                 int64\n",
       "funded_amnt               int64\n",
       "funded_amnt_inv         float64\n",
       "term                     object\n",
       "int_rate                 object\n",
       "installment             float64\n",
       "grade                    object\n",
       "emp_length               object\n",
       "home_ownership           object\n",
       "annual_inc              float64\n",
       "verification_status      object\n",
       "issue_d                  object\n",
       "loan_status              object\n",
       "purpose                  object\n",
       "addr_state               object\n",
       "dti                     float64\n",
       "total_acc                 int64\n",
       "pub_rec_bankruptcies    float64\n",
       "dtype: object"
      ]
     },
     "execution_count": 237,
     "metadata": {},
     "output_type": "execute_result"
    }
   ],
   "source": [
    "# We will check now the datatypes of each columns.\n",
    "\n",
    "loan_df.dtypes"
   ]
  },
  {
   "cell_type": "markdown",
   "id": "52ed4ccd",
   "metadata": {},
   "source": [
    "While check datatypes of each column we have found that the datatypes of 'loan_amnt' and 'funded_amnt' are int. \n",
    "So we will convert it into float datatype."
   ]
  },
  {
   "cell_type": "code",
   "execution_count": 238,
   "id": "0674b329",
   "metadata": {},
   "outputs": [],
   "source": [
    "# Converting the datatypes of loan_amnt from int to float.\n",
    "\n",
    "loan_df = loan_df.astype({'loan_amnt' : 'float'})"
   ]
  },
  {
   "cell_type": "code",
   "execution_count": 239,
   "id": "e924675a",
   "metadata": {},
   "outputs": [
    {
     "data": {
      "text/html": [
       "<div>\n",
       "<style scoped>\n",
       "    .dataframe tbody tr th:only-of-type {\n",
       "        vertical-align: middle;\n",
       "    }\n",
       "\n",
       "    .dataframe tbody tr th {\n",
       "        vertical-align: top;\n",
       "    }\n",
       "\n",
       "    .dataframe thead th {\n",
       "        text-align: right;\n",
       "    }\n",
       "</style>\n",
       "<table border=\"1\" class=\"dataframe\">\n",
       "  <thead>\n",
       "    <tr style=\"text-align: right;\">\n",
       "      <th></th>\n",
       "      <th>id</th>\n",
       "      <th>loan_amnt</th>\n",
       "      <th>funded_amnt</th>\n",
       "      <th>funded_amnt_inv</th>\n",
       "      <th>term</th>\n",
       "      <th>int_rate</th>\n",
       "      <th>installment</th>\n",
       "      <th>grade</th>\n",
       "      <th>emp_length</th>\n",
       "      <th>home_ownership</th>\n",
       "      <th>annual_inc</th>\n",
       "      <th>verification_status</th>\n",
       "      <th>issue_d</th>\n",
       "      <th>loan_status</th>\n",
       "      <th>purpose</th>\n",
       "      <th>addr_state</th>\n",
       "      <th>dti</th>\n",
       "      <th>total_acc</th>\n",
       "      <th>pub_rec_bankruptcies</th>\n",
       "    </tr>\n",
       "  </thead>\n",
       "  <tbody>\n",
       "    <tr>\n",
       "      <th>0</th>\n",
       "      <td>1077501</td>\n",
       "      <td>5000.0</td>\n",
       "      <td>5000.0</td>\n",
       "      <td>4975.0</td>\n",
       "      <td>36 months</td>\n",
       "      <td>10.65%</td>\n",
       "      <td>162.87</td>\n",
       "      <td>B</td>\n",
       "      <td>10+ years</td>\n",
       "      <td>RENT</td>\n",
       "      <td>24000.0</td>\n",
       "      <td>Verified</td>\n",
       "      <td>Dec-11</td>\n",
       "      <td>Fully Paid</td>\n",
       "      <td>credit_card</td>\n",
       "      <td>AZ</td>\n",
       "      <td>27.65</td>\n",
       "      <td>9</td>\n",
       "      <td>0.0</td>\n",
       "    </tr>\n",
       "    <tr>\n",
       "      <th>1</th>\n",
       "      <td>1077430</td>\n",
       "      <td>2500.0</td>\n",
       "      <td>2500.0</td>\n",
       "      <td>2500.0</td>\n",
       "      <td>60 months</td>\n",
       "      <td>15.27%</td>\n",
       "      <td>59.83</td>\n",
       "      <td>C</td>\n",
       "      <td>&lt; 1 year</td>\n",
       "      <td>RENT</td>\n",
       "      <td>30000.0</td>\n",
       "      <td>Source Verified</td>\n",
       "      <td>Dec-11</td>\n",
       "      <td>Charged Off</td>\n",
       "      <td>car</td>\n",
       "      <td>GA</td>\n",
       "      <td>1.00</td>\n",
       "      <td>4</td>\n",
       "      <td>0.0</td>\n",
       "    </tr>\n",
       "    <tr>\n",
       "      <th>2</th>\n",
       "      <td>1077175</td>\n",
       "      <td>2400.0</td>\n",
       "      <td>2400.0</td>\n",
       "      <td>2400.0</td>\n",
       "      <td>36 months</td>\n",
       "      <td>15.96%</td>\n",
       "      <td>84.33</td>\n",
       "      <td>C</td>\n",
       "      <td>10+ years</td>\n",
       "      <td>RENT</td>\n",
       "      <td>12252.0</td>\n",
       "      <td>Not Verified</td>\n",
       "      <td>Dec-11</td>\n",
       "      <td>Fully Paid</td>\n",
       "      <td>small_business</td>\n",
       "      <td>IL</td>\n",
       "      <td>8.72</td>\n",
       "      <td>10</td>\n",
       "      <td>0.0</td>\n",
       "    </tr>\n",
       "    <tr>\n",
       "      <th>3</th>\n",
       "      <td>1076863</td>\n",
       "      <td>10000.0</td>\n",
       "      <td>10000.0</td>\n",
       "      <td>10000.0</td>\n",
       "      <td>36 months</td>\n",
       "      <td>13.49%</td>\n",
       "      <td>339.31</td>\n",
       "      <td>C</td>\n",
       "      <td>10+ years</td>\n",
       "      <td>RENT</td>\n",
       "      <td>49200.0</td>\n",
       "      <td>Source Verified</td>\n",
       "      <td>Dec-11</td>\n",
       "      <td>Fully Paid</td>\n",
       "      <td>other</td>\n",
       "      <td>CA</td>\n",
       "      <td>20.00</td>\n",
       "      <td>37</td>\n",
       "      <td>0.0</td>\n",
       "    </tr>\n",
       "    <tr>\n",
       "      <th>5</th>\n",
       "      <td>1075269</td>\n",
       "      <td>5000.0</td>\n",
       "      <td>5000.0</td>\n",
       "      <td>5000.0</td>\n",
       "      <td>36 months</td>\n",
       "      <td>7.90%</td>\n",
       "      <td>156.46</td>\n",
       "      <td>A</td>\n",
       "      <td>3 years</td>\n",
       "      <td>RENT</td>\n",
       "      <td>36000.0</td>\n",
       "      <td>Source Verified</td>\n",
       "      <td>Dec-11</td>\n",
       "      <td>Fully Paid</td>\n",
       "      <td>wedding</td>\n",
       "      <td>AZ</td>\n",
       "      <td>11.20</td>\n",
       "      <td>12</td>\n",
       "      <td>0.0</td>\n",
       "    </tr>\n",
       "    <tr>\n",
       "      <th>...</th>\n",
       "      <td>...</td>\n",
       "      <td>...</td>\n",
       "      <td>...</td>\n",
       "      <td>...</td>\n",
       "      <td>...</td>\n",
       "      <td>...</td>\n",
       "      <td>...</td>\n",
       "      <td>...</td>\n",
       "      <td>...</td>\n",
       "      <td>...</td>\n",
       "      <td>...</td>\n",
       "      <td>...</td>\n",
       "      <td>...</td>\n",
       "      <td>...</td>\n",
       "      <td>...</td>\n",
       "      <td>...</td>\n",
       "      <td>...</td>\n",
       "      <td>...</td>\n",
       "      <td>...</td>\n",
       "    </tr>\n",
       "    <tr>\n",
       "      <th>39712</th>\n",
       "      <td>92187</td>\n",
       "      <td>2500.0</td>\n",
       "      <td>2500.0</td>\n",
       "      <td>1075.0</td>\n",
       "      <td>36 months</td>\n",
       "      <td>8.07%</td>\n",
       "      <td>78.42</td>\n",
       "      <td>A</td>\n",
       "      <td>4 years</td>\n",
       "      <td>MORTGAGE</td>\n",
       "      <td>110000.0</td>\n",
       "      <td>Not Verified</td>\n",
       "      <td>Jul-07</td>\n",
       "      <td>Fully Paid</td>\n",
       "      <td>home_improvement</td>\n",
       "      <td>CO</td>\n",
       "      <td>11.33</td>\n",
       "      <td>40</td>\n",
       "      <td>NaN</td>\n",
       "    </tr>\n",
       "    <tr>\n",
       "      <th>39713</th>\n",
       "      <td>90665</td>\n",
       "      <td>8500.0</td>\n",
       "      <td>8500.0</td>\n",
       "      <td>875.0</td>\n",
       "      <td>36 months</td>\n",
       "      <td>10.28%</td>\n",
       "      <td>275.38</td>\n",
       "      <td>C</td>\n",
       "      <td>3 years</td>\n",
       "      <td>RENT</td>\n",
       "      <td>18000.0</td>\n",
       "      <td>Not Verified</td>\n",
       "      <td>Jul-07</td>\n",
       "      <td>Fully Paid</td>\n",
       "      <td>credit_card</td>\n",
       "      <td>NC</td>\n",
       "      <td>6.40</td>\n",
       "      <td>9</td>\n",
       "      <td>NaN</td>\n",
       "    </tr>\n",
       "    <tr>\n",
       "      <th>39714</th>\n",
       "      <td>90395</td>\n",
       "      <td>5000.0</td>\n",
       "      <td>5000.0</td>\n",
       "      <td>1325.0</td>\n",
       "      <td>36 months</td>\n",
       "      <td>8.07%</td>\n",
       "      <td>156.84</td>\n",
       "      <td>A</td>\n",
       "      <td>&lt; 1 year</td>\n",
       "      <td>MORTGAGE</td>\n",
       "      <td>100000.0</td>\n",
       "      <td>Not Verified</td>\n",
       "      <td>Jul-07</td>\n",
       "      <td>Fully Paid</td>\n",
       "      <td>debt_consolidation</td>\n",
       "      <td>MA</td>\n",
       "      <td>2.30</td>\n",
       "      <td>20</td>\n",
       "      <td>NaN</td>\n",
       "    </tr>\n",
       "    <tr>\n",
       "      <th>39715</th>\n",
       "      <td>90376</td>\n",
       "      <td>5000.0</td>\n",
       "      <td>5000.0</td>\n",
       "      <td>650.0</td>\n",
       "      <td>36 months</td>\n",
       "      <td>7.43%</td>\n",
       "      <td>155.38</td>\n",
       "      <td>A</td>\n",
       "      <td>&lt; 1 year</td>\n",
       "      <td>MORTGAGE</td>\n",
       "      <td>200000.0</td>\n",
       "      <td>Not Verified</td>\n",
       "      <td>Jul-07</td>\n",
       "      <td>Fully Paid</td>\n",
       "      <td>other</td>\n",
       "      <td>MD</td>\n",
       "      <td>3.72</td>\n",
       "      <td>26</td>\n",
       "      <td>NaN</td>\n",
       "    </tr>\n",
       "    <tr>\n",
       "      <th>39716</th>\n",
       "      <td>87023</td>\n",
       "      <td>7500.0</td>\n",
       "      <td>7500.0</td>\n",
       "      <td>800.0</td>\n",
       "      <td>36 months</td>\n",
       "      <td>13.75%</td>\n",
       "      <td>255.43</td>\n",
       "      <td>E</td>\n",
       "      <td>&lt; 1 year</td>\n",
       "      <td>OWN</td>\n",
       "      <td>22000.0</td>\n",
       "      <td>Not Verified</td>\n",
       "      <td>Jun-07</td>\n",
       "      <td>Fully Paid</td>\n",
       "      <td>debt_consolidation</td>\n",
       "      <td>MA</td>\n",
       "      <td>14.29</td>\n",
       "      <td>8</td>\n",
       "      <td>NaN</td>\n",
       "    </tr>\n",
       "  </tbody>\n",
       "</table>\n",
       "<p>38577 rows × 19 columns</p>\n",
       "</div>"
      ],
      "text/plain": [
       "            id  loan_amnt  funded_amnt  funded_amnt_inv        term int_rate  \\\n",
       "0      1077501     5000.0       5000.0           4975.0   36 months   10.65%   \n",
       "1      1077430     2500.0       2500.0           2500.0   60 months   15.27%   \n",
       "2      1077175     2400.0       2400.0           2400.0   36 months   15.96%   \n",
       "3      1076863    10000.0      10000.0          10000.0   36 months   13.49%   \n",
       "5      1075269     5000.0       5000.0           5000.0   36 months    7.90%   \n",
       "...        ...        ...          ...              ...         ...      ...   \n",
       "39712    92187     2500.0       2500.0           1075.0   36 months    8.07%   \n",
       "39713    90665     8500.0       8500.0            875.0   36 months   10.28%   \n",
       "39714    90395     5000.0       5000.0           1325.0   36 months    8.07%   \n",
       "39715    90376     5000.0       5000.0            650.0   36 months    7.43%   \n",
       "39716    87023     7500.0       7500.0            800.0   36 months   13.75%   \n",
       "\n",
       "       installment grade emp_length home_ownership  annual_inc  \\\n",
       "0           162.87     B  10+ years           RENT     24000.0   \n",
       "1            59.83     C   < 1 year           RENT     30000.0   \n",
       "2            84.33     C  10+ years           RENT     12252.0   \n",
       "3           339.31     C  10+ years           RENT     49200.0   \n",
       "5           156.46     A    3 years           RENT     36000.0   \n",
       "...            ...   ...        ...            ...         ...   \n",
       "39712        78.42     A    4 years       MORTGAGE    110000.0   \n",
       "39713       275.38     C    3 years           RENT     18000.0   \n",
       "39714       156.84     A   < 1 year       MORTGAGE    100000.0   \n",
       "39715       155.38     A   < 1 year       MORTGAGE    200000.0   \n",
       "39716       255.43     E   < 1 year            OWN     22000.0   \n",
       "\n",
       "      verification_status issue_d  loan_status             purpose addr_state  \\\n",
       "0                Verified  Dec-11   Fully Paid         credit_card         AZ   \n",
       "1         Source Verified  Dec-11  Charged Off                 car         GA   \n",
       "2            Not Verified  Dec-11   Fully Paid      small_business         IL   \n",
       "3         Source Verified  Dec-11   Fully Paid               other         CA   \n",
       "5         Source Verified  Dec-11   Fully Paid             wedding         AZ   \n",
       "...                   ...     ...          ...                 ...        ...   \n",
       "39712        Not Verified  Jul-07   Fully Paid    home_improvement         CO   \n",
       "39713        Not Verified  Jul-07   Fully Paid         credit_card         NC   \n",
       "39714        Not Verified  Jul-07   Fully Paid  debt_consolidation         MA   \n",
       "39715        Not Verified  Jul-07   Fully Paid               other         MD   \n",
       "39716        Not Verified  Jun-07   Fully Paid  debt_consolidation         MA   \n",
       "\n",
       "         dti  total_acc  pub_rec_bankruptcies  \n",
       "0      27.65          9                   0.0  \n",
       "1       1.00          4                   0.0  \n",
       "2       8.72         10                   0.0  \n",
       "3      20.00         37                   0.0  \n",
       "5      11.20         12                   0.0  \n",
       "...      ...        ...                   ...  \n",
       "39712  11.33         40                   NaN  \n",
       "39713   6.40          9                   NaN  \n",
       "39714   2.30         20                   NaN  \n",
       "39715   3.72         26                   NaN  \n",
       "39716  14.29          8                   NaN  \n",
       "\n",
       "[38577 rows x 19 columns]"
      ]
     },
     "execution_count": 239,
     "metadata": {},
     "output_type": "execute_result"
    }
   ],
   "source": [
    "# Converting the datatypes of funded_amnt from int to float.\n",
    "\n",
    "loan_df = loan_df.astype({'funded_amnt' : 'float'})\n",
    "loan_df"
   ]
  },
  {
   "cell_type": "code",
   "execution_count": 240,
   "id": "bb808722",
   "metadata": {},
   "outputs": [
    {
     "data": {
      "text/plain": [
       " 36 months    29096\n",
       " 60 months     9481\n",
       "Name: term, dtype: int64"
      ]
     },
     "execution_count": 240,
     "metadata": {},
     "output_type": "execute_result"
    }
   ],
   "source": [
    "loan_df['term'].value_counts()"
   ]
  },
  {
   "cell_type": "code",
   "execution_count": 241,
   "id": "68f7d036",
   "metadata": {},
   "outputs": [
    {
     "data": {
      "text/plain": [
       "36    29096\n",
       "60     9481\n",
       "Name: term, dtype: int64"
      ]
     },
     "execution_count": 241,
     "metadata": {},
     "output_type": "execute_result"
    }
   ],
   "source": [
    "# Convert 'term' column from dtype: object to dtype: int.\n",
    "\n",
    "loan_df['term'] = loan_df['term'].str.strip('months').astype(int)\n",
    "loan_df['term'].value_counts()"
   ]
  },
  {
   "cell_type": "code",
   "execution_count": 242,
   "id": "d04c39e6",
   "metadata": {},
   "outputs": [
    {
     "data": {
      "text/plain": [
       "10.99%    913\n",
       "11.49%    790\n",
       "7.51%     787\n",
       "13.49%    749\n",
       "7.88%     725\n",
       "         ... \n",
       "16.96%      1\n",
       "18.36%      1\n",
       "16.15%      1\n",
       "16.01%      1\n",
       "16.20%      1\n",
       "Name: int_rate, Length: 370, dtype: int64"
      ]
     },
     "execution_count": 242,
     "metadata": {},
     "output_type": "execute_result"
    }
   ],
   "source": [
    "loan_df['int_rate'].value_counts()"
   ]
  },
  {
   "cell_type": "code",
   "execution_count": 243,
   "id": "c2754204",
   "metadata": {},
   "outputs": [
    {
     "data": {
      "text/plain": [
       "10.99    913\n",
       "11.49    790\n",
       "7.51     787\n",
       "13.49    749\n",
       "7.88     725\n",
       "        ... \n",
       "16.96      1\n",
       "18.36      1\n",
       "16.15      1\n",
       "16.01      1\n",
       "16.20      1\n",
       "Name: int_rate, Length: 370, dtype: int64"
      ]
     },
     "execution_count": 243,
     "metadata": {},
     "output_type": "execute_result"
    }
   ],
   "source": [
    "loan_df['int_rate'] = loan_df['int_rate'].str.strip('%').astype(float)\n",
    "loan_df['int_rate'].value_counts()"
   ]
  },
  {
   "cell_type": "markdown",
   "id": "cae366ff",
   "metadata": {},
   "source": [
    "We have formated the below columns.\n",
    "1. loan_amnt: - We have converted the datatypes from int to float for better EDA.\n",
    "2. funded_amnt: - We have converted the datatypes from int to float for better EDA.\n",
    "3. term: - While checking in dataset we have observed string part [months]. Hence we have removed.\n",
    "4. int_rate: - While analysing the dataset we have observed string part [%]. Hence we have removed. "
   ]
  },
  {
   "cell_type": "code",
   "execution_count": 244,
   "id": "14d2c5dc",
   "metadata": {},
   "outputs": [
    {
     "name": "stdout",
     "output_type": "stream",
     "text": [
      "0         5000.0\n",
      "1         2500.0\n",
      "2         2400.0\n",
      "3        10000.0\n",
      "5         5000.0\n",
      "          ...   \n",
      "39712     2500.0\n",
      "39713     8500.0\n",
      "39714     5000.0\n",
      "39715     5000.0\n",
      "39716     7500.0\n",
      "Name: loan_amnt, Length: 38577, dtype: float64\n",
      "0         5000.0\n",
      "1         2500.0\n",
      "2         2400.0\n",
      "3        10000.0\n",
      "5         5000.0\n",
      "          ...   \n",
      "39712     2500.0\n",
      "39713     8500.0\n",
      "39714     5000.0\n",
      "39715     5000.0\n",
      "39716     7500.0\n",
      "Name: funded_amnt, Length: 38577, dtype: float64\n",
      "0         4975.0\n",
      "1         2500.0\n",
      "2         2400.0\n",
      "3        10000.0\n",
      "5         5000.0\n",
      "          ...   \n",
      "39712     1075.0\n",
      "39713      875.0\n",
      "39714     1325.0\n",
      "39715      650.0\n",
      "39716      800.0\n",
      "Name: funded_amnt_inv, Length: 38577, dtype: float64\n",
      "0        10.65\n",
      "1        15.27\n",
      "2        15.96\n",
      "3        13.49\n",
      "5         7.90\n",
      "         ...  \n",
      "39712     8.07\n",
      "39713    10.28\n",
      "39714     8.07\n",
      "39715     7.43\n",
      "39716    13.75\n",
      "Name: int_rate, Length: 38577, dtype: float64\n",
      "0        27.65\n",
      "1         1.00\n",
      "2         8.72\n",
      "3        20.00\n",
      "5        11.20\n",
      "         ...  \n",
      "39712    11.33\n",
      "39713     6.40\n",
      "39714     2.30\n",
      "39715     3.72\n",
      "39716    14.29\n",
      "Name: dti, Length: 38577, dtype: float64\n"
     ]
    }
   ],
   "source": [
    "# Rounding off the belows to two deccimals points.\n",
    "for c in ['loan_amnt', 'funded_amnt', 'funded_amnt_inv', 'int_rate', 'dti']:\n",
    "    loan_df[c] = loan_df[c].apply(lambda x : round(x, 2))\n",
    "    print(loan_df[c])"
   ]
  },
  {
   "cell_type": "code",
   "execution_count": 245,
   "id": "0c81f002",
   "metadata": {},
   "outputs": [
    {
     "data": {
      "text/plain": [
       "0       2011-12-01\n",
       "1       2011-12-01\n",
       "2       2011-12-01\n",
       "3       2011-12-01\n",
       "5       2011-12-01\n",
       "           ...    \n",
       "39712   2007-07-01\n",
       "39713   2007-07-01\n",
       "39714   2007-07-01\n",
       "39715   2007-07-01\n",
       "39716   2007-06-01\n",
       "Name: issue_d, Length: 38577, dtype: datetime64[ns]"
      ]
     },
     "execution_count": 245,
     "metadata": {},
     "output_type": "execute_result"
    }
   ],
   "source": [
    "# converting issue_d to date format [yyyy-mm-dd] for better results.\n",
    "\n",
    "loan_df['issue_d'] = pd.to_datetime(loan_df.issue_d, format='%b-%y')\n",
    "loan_df['issue_d']"
   ]
  },
  {
   "cell_type": "code",
   "execution_count": 246,
   "id": "94c4b162",
   "metadata": {},
   "outputs": [
    {
     "data": {
      "text/plain": [
       "id                      0.000000\n",
       "loan_amnt               0.000000\n",
       "funded_amnt             0.000000\n",
       "funded_amnt_inv         0.000000\n",
       "term                    0.000000\n",
       "int_rate                0.000000\n",
       "installment             0.000000\n",
       "grade                   0.000000\n",
       "emp_length              2.677761\n",
       "home_ownership          0.000000\n",
       "annual_inc              0.000000\n",
       "verification_status     0.000000\n",
       "issue_d                 0.000000\n",
       "loan_status             0.000000\n",
       "purpose                 0.000000\n",
       "addr_state              0.000000\n",
       "dti                     0.000000\n",
       "total_acc               0.000000\n",
       "pub_rec_bankruptcies    1.806776\n",
       "dtype: float64"
      ]
     },
     "execution_count": 246,
     "metadata": {},
     "output_type": "execute_result"
    }
   ],
   "source": [
    "# Checking % of null rows in the dataset\n",
    "\n",
    "(loan_df.isnull().sum()*100/len(loan_df))"
   ]
  },
  {
   "cell_type": "code",
   "execution_count": 247,
   "id": "36c98fc3",
   "metadata": {},
   "outputs": [
    {
     "data": {
      "text/plain": [
       "(36847, 19)"
      ]
     },
     "execution_count": 247,
     "metadata": {},
     "output_type": "execute_result"
    }
   ],
   "source": [
    "# Null rows of emp_length and pub_rec_bankruptcies are less. Hence we are removing null rows from both the rows.\n",
    "\n",
    "loan_df = loan_df[loan_df['emp_length'].notna()]\n",
    "loan_df = loan_df[loan_df['pub_rec_bankruptcies'].notna()]\n",
    "loan_df.shape"
   ]
  },
  {
   "cell_type": "code",
   "execution_count": 248,
   "id": "7c63b45e",
   "metadata": {},
   "outputs": [
    {
     "data": {
      "text/plain": [
       "id                      0.0\n",
       "loan_amnt               0.0\n",
       "funded_amnt             0.0\n",
       "funded_amnt_inv         0.0\n",
       "term                    0.0\n",
       "int_rate                0.0\n",
       "installment             0.0\n",
       "grade                   0.0\n",
       "emp_length              0.0\n",
       "home_ownership          0.0\n",
       "annual_inc              0.0\n",
       "verification_status     0.0\n",
       "issue_d                 0.0\n",
       "loan_status             0.0\n",
       "purpose                 0.0\n",
       "addr_state              0.0\n",
       "dti                     0.0\n",
       "total_acc               0.0\n",
       "pub_rec_bankruptcies    0.0\n",
       "dtype: float64"
      ]
     },
     "execution_count": 248,
     "metadata": {},
     "output_type": "execute_result"
    }
   ],
   "source": [
    "# Again checking % of null rows in the dataset\n",
    "\n",
    "(loan_df.isnull().sum()*100/len(loan_df))"
   ]
  },
  {
   "cell_type": "code",
   "execution_count": 249,
   "id": "646fb08b",
   "metadata": {},
   "outputs": [],
   "source": [
    "# After removing null rows from emp_length we will strip 'years', '<' and replace '+',' ' with \"\" from column.\n",
    "def strip_emp_length(x):\n",
    "    x = x.strip('years')\n",
    "    x = x.strip('<')\n",
    "    x = x.replace(' ', '')\n",
    "    x = x.replace('+', '')\n",
    "    return x\n",
    "loan_df['emp_length'] = loan_df['emp_length'].apply(lambda x : strip_emp_length(x))"
   ]
  },
  {
   "cell_type": "code",
   "execution_count": 250,
   "id": "046e8566",
   "metadata": {},
   "outputs": [
    {
     "data": {
      "text/plain": [
       "array(['10', '1', '3', '8', '9', '4', '5', '6', '2', '7'], dtype=object)"
      ]
     },
     "execution_count": 250,
     "metadata": {},
     "output_type": "execute_result"
    }
   ],
   "source": [
    "# Read column 'emp_length' and check unique value\n",
    "loan_df['emp_length'].unique()"
   ]
  },
  {
   "cell_type": "code",
   "execution_count": 251,
   "id": "3ca59cda",
   "metadata": {},
   "outputs": [
    {
     "name": "stdout",
     "output_type": "stream",
     "text": [
      "0        10\n",
      "1         1\n",
      "2        10\n",
      "3        10\n",
      "5         3\n",
      "         ..\n",
      "39562     1\n",
      "39573     3\n",
      "39623     8\n",
      "39666     2\n",
      "39680     2\n",
      "Name: emp_length, Length: 36847, dtype: object\n"
     ]
    }
   ],
   "source": [
    "print(loan_df['emp_length'])"
   ]
  },
  {
   "cell_type": "markdown",
   "id": "6c4f0279",
   "metadata": {},
   "source": [
    "### Derived Columns"
   ]
  },
  {
   "cell_type": "code",
   "execution_count": 252,
   "id": "54150043",
   "metadata": {},
   "outputs": [],
   "source": [
    "# Creating derived columns 'issue month' and 'issue year' from issue_d\n",
    "\n",
    "loan_df['issue_year'] = loan_df['issue_d'].dt.year\n",
    "loan_df['issue_month'] = loan_df['issue_d'].dt.month"
   ]
  },
  {
   "cell_type": "code",
   "execution_count": 253,
   "id": "8de069fe",
   "metadata": {},
   "outputs": [],
   "source": [
    "# print(round(loan_df['loan_amnt'].describe()), 2)\n",
    "# loan_df['loan_amnt'].plot(kind='box')"
   ]
  },
  {
   "cell_type": "markdown",
   "id": "3dfefb1d",
   "metadata": {},
   "source": [
    "### Univariate Analysis"
   ]
  },
  {
   "cell_type": "markdown",
   "id": "516d5db1",
   "metadata": {},
   "source": [
    "#### Bucketing Different Variables For Better Analysis"
   ]
  },
  {
   "cell_type": "code",
   "execution_count": 254,
   "id": "26317295",
   "metadata": {},
   "outputs": [],
   "source": [
    "# Bucketing Loan Amount\n",
    "\n",
    "def bucket_loan_amnt(column):\n",
    "    if column <= 5000:\n",
    "        return '0 - 5K'\n",
    "    elif (column > 5000) and (column <= 10000):\n",
    "        return '5K - 10K'\n",
    "    elif (column > 10000) and (column <= 15000):\n",
    "        return '10K - 15K'\n",
    "    else:\n",
    "        return '15K - above'\n",
    "\n",
    "loan_df['loan_amnt_b'] = loan_df.apply(lambda x : bucket_loan_amnt(x['loan_amnt']), axis=1)"
   ]
  },
  {
   "cell_type": "code",
   "execution_count": 255,
   "id": "8015b05d",
   "metadata": {},
   "outputs": [],
   "source": [
    "# Bucketing Annual Income\n",
    "\n",
    "def bucket_annual_inc(column):\n",
    "    if column <= 40000:\n",
    "        return '0 - 40K'\n",
    "    elif (column > 40000) and (column <= 50000):\n",
    "        return '40K - 50K'\n",
    "    elif (column > 50000) and (column <= 60000):\n",
    "        return '50K - 60K'\n",
    "    elif (column > 60000) and (column <= 70000):\n",
    "        return '60K - 70K'\n",
    "    elif (column > 70000) and (column <= 80000):\n",
    "        return '70K - 80K'\n",
    "    else:\n",
    "        return '80K - above'\n",
    "\n",
    "loan_df['annual_inc_b'] = loan_df.apply (lambda x : bucket_annual_inc(x['annual_inc']), axis = 1)\n"
   ]
  },
  {
   "cell_type": "code",
   "execution_count": 256,
   "id": "6f42a20d",
   "metadata": {},
   "outputs": [],
   "source": [
    "# Bucketing Interest Rate\n",
    "\n",
    "def bucket_int_rate(column):\n",
    "    if column <= 9:\n",
    "        return 'Very Low'\n",
    "    elif (column > 9) and (column <= 11):\n",
    "        return 'Low'\n",
    "    elif (column > 11) and (column <= 13):\n",
    "        return 'Medium'\n",
    "    elif (column > 13) and (column <= 15):\n",
    "        return 'High'\n",
    "    else:\n",
    "        return 'Very High'\n",
    "    \n",
    "loan_df['int_rate_b'] = loan_df.apply(lambda x : bucket_int_rate(x.int_rate), axis = 1)"
   ]
  },
  {
   "cell_type": "code",
   "execution_count": 257,
   "id": "135db1bd",
   "metadata": {},
   "outputs": [],
   "source": [
    "# Bucketing dti (debt to income ratio)\n",
    "\n",
    "def bucket_dti (column):\n",
    "    if column <= 8:\n",
    "        return 'Very Low'\n",
    "    elif (column > 8) and (column <= 12):\n",
    "        return 'Low'\n",
    "    elif (column < 12) and (column <= 16):\n",
    "        return 'Medium'\n",
    "    elif (column < 16) and (column <= 20):\n",
    "        return 'High'\n",
    "    else:\n",
    "        return 'Very High'\n",
    "\n",
    "loan_df['dti_b'] = loan_df.apply(lambda x : bucket_dti(x.dti), axis = 1)"
   ]
  },
  {
   "cell_type": "code",
   "execution_count": 258,
   "id": "65e813d0",
   "metadata": {},
   "outputs": [],
   "source": [
    "# We will reanme the columns name for our better understand.\n",
    "\n",
    "# loan_df.rename(columns = {'loan_amnt' : 'Loan Amount',\n",
    "#                 'funded_amnt' : 'Funded Amount',\n",
    "#                 'funded_amnt_inv' : 'Funded Amount Investors',\n",
    "#                 'term' : 'Term',\n",
    "#                 'int_rate' : 'Interest Rate',\n",
    "#                 'installment' : 'Installment',\n",
    "#                 'grade' : 'Grade',\n",
    "#                 'emp_length' : 'Employment Length In Years',\n",
    "#                 'home_ownership' : 'Home Owner Status',\n",
    "#                 'annual_inc' : 'Annual Income',\n",
    "#                 'verification_status' : 'Verification Status',\n",
    "#                 'issue_d' : 'Issue Date',\n",
    "#                 'loan_status' : 'Loan Status',\n",
    "#                 'purpose' : 'Purpose Of Loan',\n",
    "#                 'addr_state' : 'State',\n",
    "#                 'dti' : 'Debt To Income Ratio',\n",
    "#                 'pub_rec_bankruptcies' : 'Public Record Bankruptcies',\n",
    "#                 'issue_m' : 'Issue Month',\n",
    "#                 'issue_y' : 'Issue Year',\n",
    "#                 'issue_q' : 'Issue Quarter',\n",
    "#                 'loan_amnt_b' : 'Loan Amount Bins',\n",
    "#                 'funded_amnt_inv_b' : 'Funded Amount Investors Bins',\n",
    "#                 'funded_amnt_b' : 'Funded Amount Bins',\n",
    "#                 'annual_inc_b' : 'Annual Income Bins',\n",
    "#                 'int_rate_b' : 'Interest Rate Bins',\n",
    "#                 'dti_b' : 'Debt To Income Ratio Bins',\n",
    "#                 'total_acc' :'Credit Accounts'}, inplace=True)"
   ]
  },
  {
   "cell_type": "code",
   "execution_count": 259,
   "id": "95560909",
   "metadata": {},
   "outputs": [],
   "source": [
    "# Column metadata used by functions below\n",
    "column_titles = {\n",
    "    'loan_amnt': 'Loan Amount',\n",
    "    'funded_amnt': 'Funded Amount',\n",
    "    'funded_amnt_inv': 'Funded Amount Investors',\n",
    "    'term': 'Loan Term',\n",
    "    'int_rate': 'Interest Rate',\n",
    "    'installment': 'Installment',\n",
    "    'grade': 'Grade',\n",
    "    'emp_length': 'Employment Length',\n",
    "    'home_ownership': 'Home Owner Status',\n",
    "    'annual_inc': 'Annuap Income', \n",
    "    'verification_status': 'Verification Status',\n",
    "    'issue_d': 'Issue Date',\n",
    "    'loan_status': 'Loan Status',\n",
    "    'purpose': 'Purpose of Loan',\n",
    "    'addr_state': 'State',\n",
    "    'dti': 'Debt To Income Ratio',\n",
    "    'pub_rec_bankruptcies': 'Bankruptcies Record',\n",
    "    'issue_y': 'Issue Year',\n",
    "    'issue_m': 'Issue Month',\n",
    "    'issue_q': 'Issue Quarter',\n",
    "    'loan_amnt_b': 'Loan Amount Bins',\n",
    "    'funded_amnt_inv_b': 'Investor Funded Bins',\n",
    "    'funded_amnt_b': 'Funded Amount Bins',\n",
    "    'annual_inc_b': 'Annual Income Bins',\n",
    "    'int_rate_b': 'Interest Rate Bins',\n",
    "    'dti_b': 'DTI Bins'\n",
    "}"
   ]
  },
  {
   "cell_type": "code",
   "execution_count": 260,
   "id": "7254aef9",
   "metadata": {},
   "outputs": [
    {
     "data": {
      "text/plain": [
       "(36847, 25)"
      ]
     },
     "execution_count": 260,
     "metadata": {},
     "output_type": "execute_result"
    }
   ],
   "source": [
    "loan_df.shape"
   ]
  },
  {
   "cell_type": "markdown",
   "id": "3cb7a98b",
   "metadata": {},
   "source": [
    "#### Creating Boxplot to see there is any outliers exists for columns Loan Amount, Funded Amount, Funded Amount Investors, Interest Rate, Installment and Annual Income."
   ]
  },
  {
   "cell_type": "code",
   "execution_count": 261,
   "id": "bd6f0f58",
   "metadata": {},
   "outputs": [
    {
     "ename": "KeyError",
     "evalue": "'Loan Amount'",
     "output_type": "error",
     "traceback": [
      "\u001b[1;31m---------------------------------------------------------------------------\u001b[0m",
      "\u001b[1;31mKeyError\u001b[0m                                  Traceback (most recent call last)",
      "File \u001b[1;32mC:\\ProgramData\\anaconda3\\lib\\site-packages\\pandas\\core\\indexes\\base.py:3802\u001b[0m, in \u001b[0;36mIndex.get_loc\u001b[1;34m(self, key, method, tolerance)\u001b[0m\n\u001b[0;32m   3801\u001b[0m \u001b[38;5;28;01mtry\u001b[39;00m:\n\u001b[1;32m-> 3802\u001b[0m     \u001b[38;5;28;01mreturn\u001b[39;00m \u001b[38;5;28;43mself\u001b[39;49m\u001b[38;5;241;43m.\u001b[39;49m\u001b[43m_engine\u001b[49m\u001b[38;5;241;43m.\u001b[39;49m\u001b[43mget_loc\u001b[49m\u001b[43m(\u001b[49m\u001b[43mcasted_key\u001b[49m\u001b[43m)\u001b[49m\n\u001b[0;32m   3803\u001b[0m \u001b[38;5;28;01mexcept\u001b[39;00m \u001b[38;5;167;01mKeyError\u001b[39;00m \u001b[38;5;28;01mas\u001b[39;00m err:\n",
      "File \u001b[1;32mC:\\ProgramData\\anaconda3\\lib\\site-packages\\pandas\\_libs\\index.pyx:138\u001b[0m, in \u001b[0;36mpandas._libs.index.IndexEngine.get_loc\u001b[1;34m()\u001b[0m\n",
      "File \u001b[1;32mC:\\ProgramData\\anaconda3\\lib\\site-packages\\pandas\\_libs\\index.pyx:165\u001b[0m, in \u001b[0;36mpandas._libs.index.IndexEngine.get_loc\u001b[1;34m()\u001b[0m\n",
      "File \u001b[1;32mpandas\\_libs\\hashtable_class_helper.pxi:5745\u001b[0m, in \u001b[0;36mpandas._libs.hashtable.PyObjectHashTable.get_item\u001b[1;34m()\u001b[0m\n",
      "File \u001b[1;32mpandas\\_libs\\hashtable_class_helper.pxi:5753\u001b[0m, in \u001b[0;36mpandas._libs.hashtable.PyObjectHashTable.get_item\u001b[1;34m()\u001b[0m\n",
      "\u001b[1;31mKeyError\u001b[0m: 'Loan Amount'",
      "\nThe above exception was the direct cause of the following exception:\n",
      "\u001b[1;31mKeyError\u001b[0m                                  Traceback (most recent call last)",
      "Cell \u001b[1;32mIn[261], line 3\u001b[0m\n\u001b[0;32m      1\u001b[0m \u001b[38;5;66;03m# Boxplot for 'Loan Amount'\u001b[39;00m\n\u001b[1;32m----> 3\u001b[0m plt\u001b[38;5;241m.\u001b[39mboxplot(\u001b[43mloan_df\u001b[49m\u001b[43m[\u001b[49m\u001b[38;5;124;43m'\u001b[39;49m\u001b[38;5;124;43mLoan Amount\u001b[39;49m\u001b[38;5;124;43m'\u001b[39;49m\u001b[43m]\u001b[49m)\n\u001b[0;32m      4\u001b[0m plt\u001b[38;5;241m.\u001b[39mtitle(\u001b[38;5;124m'\u001b[39m\u001b[38;5;124mLoan Amount\u001b[39m\u001b[38;5;124m'\u001b[39m)\n\u001b[0;32m      5\u001b[0m plt\u001b[38;5;241m.\u001b[39mshow()\n",
      "File \u001b[1;32mC:\\ProgramData\\anaconda3\\lib\\site-packages\\pandas\\core\\frame.py:3807\u001b[0m, in \u001b[0;36mDataFrame.__getitem__\u001b[1;34m(self, key)\u001b[0m\n\u001b[0;32m   3805\u001b[0m \u001b[38;5;28;01mif\u001b[39;00m \u001b[38;5;28mself\u001b[39m\u001b[38;5;241m.\u001b[39mcolumns\u001b[38;5;241m.\u001b[39mnlevels \u001b[38;5;241m>\u001b[39m \u001b[38;5;241m1\u001b[39m:\n\u001b[0;32m   3806\u001b[0m     \u001b[38;5;28;01mreturn\u001b[39;00m \u001b[38;5;28mself\u001b[39m\u001b[38;5;241m.\u001b[39m_getitem_multilevel(key)\n\u001b[1;32m-> 3807\u001b[0m indexer \u001b[38;5;241m=\u001b[39m \u001b[38;5;28;43mself\u001b[39;49m\u001b[38;5;241;43m.\u001b[39;49m\u001b[43mcolumns\u001b[49m\u001b[38;5;241;43m.\u001b[39;49m\u001b[43mget_loc\u001b[49m\u001b[43m(\u001b[49m\u001b[43mkey\u001b[49m\u001b[43m)\u001b[49m\n\u001b[0;32m   3808\u001b[0m \u001b[38;5;28;01mif\u001b[39;00m is_integer(indexer):\n\u001b[0;32m   3809\u001b[0m     indexer \u001b[38;5;241m=\u001b[39m [indexer]\n",
      "File \u001b[1;32mC:\\ProgramData\\anaconda3\\lib\\site-packages\\pandas\\core\\indexes\\base.py:3804\u001b[0m, in \u001b[0;36mIndex.get_loc\u001b[1;34m(self, key, method, tolerance)\u001b[0m\n\u001b[0;32m   3802\u001b[0m     \u001b[38;5;28;01mreturn\u001b[39;00m \u001b[38;5;28mself\u001b[39m\u001b[38;5;241m.\u001b[39m_engine\u001b[38;5;241m.\u001b[39mget_loc(casted_key)\n\u001b[0;32m   3803\u001b[0m \u001b[38;5;28;01mexcept\u001b[39;00m \u001b[38;5;167;01mKeyError\u001b[39;00m \u001b[38;5;28;01mas\u001b[39;00m err:\n\u001b[1;32m-> 3804\u001b[0m     \u001b[38;5;28;01mraise\u001b[39;00m \u001b[38;5;167;01mKeyError\u001b[39;00m(key) \u001b[38;5;28;01mfrom\u001b[39;00m \u001b[38;5;21;01merr\u001b[39;00m\n\u001b[0;32m   3805\u001b[0m \u001b[38;5;28;01mexcept\u001b[39;00m \u001b[38;5;167;01mTypeError\u001b[39;00m:\n\u001b[0;32m   3806\u001b[0m     \u001b[38;5;66;03m# If we have a listlike key, _check_indexing_error will raise\u001b[39;00m\n\u001b[0;32m   3807\u001b[0m     \u001b[38;5;66;03m#  InvalidIndexError. Otherwise we fall through and re-raise\u001b[39;00m\n\u001b[0;32m   3808\u001b[0m     \u001b[38;5;66;03m#  the TypeError.\u001b[39;00m\n\u001b[0;32m   3809\u001b[0m     \u001b[38;5;28mself\u001b[39m\u001b[38;5;241m.\u001b[39m_check_indexing_error(key)\n",
      "\u001b[1;31mKeyError\u001b[0m: 'Loan Amount'"
     ]
    }
   ],
   "source": [
    "# Boxplot for 'Loan Amount'\n",
    "\n",
    "plt.boxplot(loan_df['Loan Amount'])\n",
    "plt.title('Loan Amount')\n",
    "plt.show()\n",
    "\n",
    "#  Boxplot for 'Funded Amount'\n",
    "plt.boxplot(loan_df['Funded Amount'])\n",
    "plt.title('Funded Amount')\n",
    "plt.show()\n",
    "\n",
    "\n",
    "# Boxplot for 'Funded Amount Investors'\n",
    "plt.boxplot(loan_df['Funded Amount Investors'])\n",
    "plt.title('Funded Amount Investors')\n",
    "plt.show()\n",
    "\n",
    "# Boxplot for 'Interest Rate'\n",
    "plt.boxplot(loan_df['Interest Rate'])\n",
    "plt.title('Interest Rate')\n",
    "plt.show()\n",
    "\n",
    "\n",
    "# Boxplot for 'Installment'\n",
    "plt.boxplot(loan_df['Installment'])\n",
    "plt.title('Installment')\n",
    "plt.show()\n",
    "\n",
    "#  Boxplot for 'Annual Income'\n",
    "plt.boxplot(loan_df['Annual Income'])\n",
    "plt.title('Annual Income')\n",
    "plt.show()"
   ]
  },
  {
   "cell_type": "markdown",
   "id": "254b548b",
   "metadata": {},
   "source": [
    "From above boxplots we can see there are outliers for columns Loan Amount, Funded Amount, Funded Amount Investors, Interest Rate, Installment and Annual Income."
   ]
  },
  {
   "cell_type": "code",
   "execution_count": null,
   "id": "7e41a170",
   "metadata": {},
   "outputs": [],
   "source": [
    "# Lets remove outliers\n",
    "\n",
    "outliers_columns_s1 = ['Loan Amount', 'Funded Amount', 'Funded Amount Investors', 'Interest Rate', 'Installment', 'Annual Income']\n",
    "# outliers_columns_s2 = ['Interest Rate', 'Installment', 'Annual Income']\n",
    "\n",
    "def remove_outliers_iqr(data, columns):\n",
    "    for col in columns:\n",
    "        Q1 = data[col].quantile(0.25)\n",
    "        Q3 = data[col].quantile(0.75)\n",
    "        IQR = Q3 - Q1\n",
    "        lower_bound = Q1 - 1.5 * IQR\n",
    "        upper_bound = Q3 + 1.5 * IQR\n",
    "        data = data [(data[col] >= lower_bound) & (data[col] <= upper_bound)]\n",
    "    return data\n",
    "\n",
    "loan_df= remove_outliers_iqr(loan_df, outliers_columns_s1)\n",
    "# loan_df= remove_outliers_iqr(loan_df, outliers_columns_s2)\n"
   ]
  },
  {
   "cell_type": "markdown",
   "id": "7f614674",
   "metadata": {},
   "source": [
    "Ploting boxplot after removing the outliers for the above mentioned columns"
   ]
  },
  {
   "cell_type": "code",
   "execution_count": null,
   "id": "f0fddd51",
   "metadata": {},
   "outputs": [],
   "source": [
    "# Boxplot for 'Loan Amount' after removing the outliers\n",
    "\n",
    "plt.boxplot(loan_df['Loan Amount'])\n",
    "plt.title('Loan Amount')\n",
    "plt.show()\n",
    "\n",
    "#  Boxplot for 'Funded Amount' after removing the outliers\n",
    "plt.boxplot(loan_df['Funded Amount'])\n",
    "plt.title('Funded Amount')\n",
    "plt.show()\n",
    "\n",
    "\n",
    "# Boxplot for 'Funded Amount Investors' after removing the outliers\n",
    "plt.boxplot(loan_df['Funded Amount Investors'])\n",
    "plt.title('Funded Amount Investors')\n",
    "plt.show()\n",
    "\n",
    "# Boxplot for 'Interest Rate' after removing the outliers\n",
    "plt.boxplot(loan_df['Interest Rate'])\n",
    "plt.title('Interest Rate')\n",
    "plt.show()\n",
    "\n",
    "\n",
    "# Boxplot for 'Installment' after removing the outliers\n",
    "plt.boxplot(loan_df['Installment'])\n",
    "plt.title('Installment')\n",
    "plt.show()\n",
    "\n",
    "#  Boxplot for 'Annual Income' after removing the outliers\n",
    "plt.boxplot(loan_df['Annual Income'])\n",
    "plt.title('Annual Income')\n",
    "plt.show()"
   ]
  },
  {
   "cell_type": "markdown",
   "id": "54b888ce",
   "metadata": {},
   "source": [
    "## Univarite Analysis"
   ]
  },
  {
   "cell_type": "code",
   "execution_count": null,
   "id": "7a4afae6",
   "metadata": {},
   "outputs": [],
   "source": [
    "# We will create a countplot to show the year wise increasing amount of loans applicants.\n",
    "\n",
    "plt.figure(figsize=(11,7))\n",
    "sea.set(style=\"whitegrid\")\n",
    "ax = sea.countplot(x='issue_year',data=loan_df,order=loan_df['issue_year'].value_counts().index)\n",
    "plt.title(\"Year Wise Number of Loan Applicants\")\n",
    "plt.xlabel(\"Year\")\n",
    "plt.ylabel(\"Total Numbers of Loans\")\n",
    "plt.show()"
   ]
  },
  {
   "cell_type": "markdown",
   "id": "cd4033e4",
   "metadata": {},
   "source": [
    "#### Loan application counts are consistently increasing year over year."
   ]
  },
  {
   "cell_type": "code",
   "execution_count": null,
   "id": "7909a030",
   "metadata": {},
   "outputs": [],
   "source": [
    "# Lets see the home ownership in bar plot to see the count of people.\n",
    "\n",
    "plt.figure(figsize=(11,7))\n",
    "sea.set(style=\"whitegrid\")\n",
    "ax = sea.countplot(x='Home Owner Status',data=loan_df,order=loan_df['Home Owner Status'].value_counts().index)\n",
    "plt.title(\"Count of Home Ownership\")\n",
    "plt.xlabel(\"Home Ownership\")\n",
    "plt.ylabel(\"Total Numbers of People\")\n",
    "plt.show()"
   ]
  },
  {
   "cell_type": "markdown",
   "id": "99dd064b",
   "metadata": {},
   "source": [
    "#### RENT and MORTGAGE having the highest number of count for Home Owner Status"
   ]
  },
  {
   "cell_type": "code",
   "execution_count": null,
   "id": "6ba176a7",
   "metadata": {},
   "outputs": [],
   "source": [
    "# Lets see the purpose of loan in bar plot to see highest number of loan application in which category.\n",
    "\n",
    "plt.figure(figsize=(16,7))\n",
    "sea.set(style=\"dark\")\n",
    "ax = sea.countplot(x='Purpose Of Loan',data=loan_df,order=loan_df['Purpose Of Loan'].value_counts().index)\n",
    "plt.title(\"Loan Purpose\")\n",
    "plt.xlabel(\"Purpose of Loan\")\n",
    "plt.ylabel(\"Numbers of Loan Purpose\")\n",
    "plt.xticks(rotation=90)\n",
    "plt.show()"
   ]
  },
  {
   "cell_type": "code",
   "execution_count": null,
   "id": "bee293d2",
   "metadata": {},
   "outputs": [],
   "source": []
  },
  {
   "cell_type": "markdown",
   "id": "09324f37",
   "metadata": {},
   "source": [
    "#### Majority of loan application are in the category of debt_consolidation"
   ]
  },
  {
   "cell_type": "code",
   "execution_count": null,
   "id": "6b2c344c",
   "metadata": {},
   "outputs": [],
   "source": []
  },
  {
   "cell_type": "code",
   "execution_count": null,
   "id": "405fafb9",
   "metadata": {},
   "outputs": [],
   "source": [
    "# To check majority Loan Amount is in which range.\n",
    "\n",
    "plt.figure(figsize=(11,7))\n",
    "ax=sea.distplot(loan_df['Loan Amount'],bins=7,color='y')\n",
    "plt.title(\"Distribution of Loan Amount\")\n",
    "plt.xlabel(\"Loan Amount\")\n",
    "plt.show()"
   ]
  },
  {
   "cell_type": "markdown",
   "id": "8c408af5",
   "metadata": {},
   "source": [
    "#### As per the above graph, it has been observed that the majority loan amount is between 5000-13000"
   ]
  },
  {
   "cell_type": "code",
   "execution_count": null,
   "id": "28047e0a",
   "metadata": {},
   "outputs": [],
   "source": [
    "# To check majority Funded Amount is in which range.\n",
    "\n",
    "plt.figure(figsize=(11,7))\n",
    "ax=sea.distplot(loan_df['Funded Amount'],bins=7,color='r')\n",
    "plt.title(\"Distribution of Funded Amount\")\n",
    "plt.xlabel(\"Funded Amount\")\n",
    "plt.show()"
   ]
  },
  {
   "cell_type": "markdown",
   "id": "ef8786a4",
   "metadata": {},
   "source": [
    "#### As per the above graph, it has been observed that the majority funded amount is between 5000-12000"
   ]
  },
  {
   "cell_type": "code",
   "execution_count": null,
   "id": "2b86b146",
   "metadata": {
    "scrolled": true
   },
   "outputs": [],
   "source": [
    "# To check majority Funded Amount is in which range.\n",
    "\n",
    "plt.figure(figsize=(11,7))\n",
    "ax=sea.distplot(loan_df['Funded Amount Investors'],bins=7,color='b')\n",
    "plt.title(\"Distribution of Funded Amount Investors\")\n",
    "plt.xlabel(\"Funded Amount Investors\")\n",
    "plt.show()"
   ]
  },
  {
   "cell_type": "markdown",
   "id": "dac1a443",
   "metadata": {},
   "source": [
    "#### As per the above graph, it has been observed that the majority funded amount investors is between 5000-11000"
   ]
  },
  {
   "cell_type": "markdown",
   "id": "e1733e9d",
   "metadata": {},
   "source": [
    "\n",
    "### Ordered Categorical Variable Analysis"
   ]
  },
  {
   "cell_type": "code",
   "execution_count": null,
   "id": "1c5afb5a",
   "metadata": {},
   "outputs": [],
   "source": [
    "# Plotting Pie Chart for loan term\n",
    "\n",
    "loan_term_counts = loan_df['Term'].value_counts()\n",
    "plt.figure(figsize=(8, 8))\n",
    "plt.pie(loan_term_counts, labels=loan_term_counts.index, autopct='%1.1f%%', startangle=90, colors=['skyblue', 'lightgreen', 'lightcoral'])\n",
    "plt.title('Loan Term Distribution')\n",
    "plt.show()\n"
   ]
  },
  {
   "cell_type": "code",
   "execution_count": null,
   "id": "64badbe4",
   "metadata": {},
   "outputs": [],
   "source": [
    "# plt.figure(figsize=(16,7))\n",
    "# sea.set(style=\"dark\")\n",
    "# ax = sea.countplot(x='Loan Amount Bins',data=loan_df,order=loan_df['Loan Amount Bins'].value_counts().index)\n",
    "# plt.title(\"Bankrupt Record\")\n",
    "# plt.xlabel(\"Public Record Bankruptcies\")\n",
    "# plt.ylabel(\"Number of Counts\")\n",
    "# plt.xticks(rotation=90)\n",
    "# plt.show()\n",
    "\n",
    "# import seaborn as sns\n",
    "# import matplotlib.pyplot as plt\n",
    "\n",
    "# Assuming 'loan_df' is your DataFrame with a 'Loan Amount Bins' column\n",
    "loan_amount_bins_counts = loan_df['Loan Amount Bins'].value_counts()\n",
    "\n",
    "# Set the figure size\n",
    "plt.figure(figsize=(16, 7))\n",
    "\n",
    "# Set the style to dark\n",
    "sea.set(style=\"dark\")\n",
    "\n",
    "# Create a bar plot\n",
    "sea.barplot(x=loan_amount_bins_counts.index, y=loan_amount_bins_counts, order=loan_amount_bins_counts.index, palette='deep')\n",
    "\n",
    "# Set the title and labels\n",
    "plt.title(\"Loan Amount Bins Distribution (Bar Plot)\")\n",
    "plt.xlabel(\"Loan Amount Bins\")\n",
    "plt.ylabel(\"Number of Counts\")\n",
    "plt.xticks(rotation=90)\n",
    "\n",
    "# Display the plot\n",
    "plt.show()\n",
    "\n"
   ]
  },
  {
   "cell_type": "code",
   "execution_count": null,
   "id": "b80856e8",
   "metadata": {},
   "outputs": [],
   "source": []
  },
  {
   "cell_type": "code",
   "execution_count": null,
   "id": "a938feeb",
   "metadata": {},
   "outputs": [],
   "source": [
    "import matplotlib.pyplot as plt\n",
    "\n",
    "# Assuming 'loan_df' is your DataFrame\n",
    "plt.figure(figsize=(12, 7))\n",
    "\n",
    "# Create a bar plot for bivariate analysis\n",
    "loan_df.groupby(['Term', 'Loan Status']).size().unstack().plot(kind='bar', stacked=True, \n",
    "                                                              color=['skyblue', 'lightgreen'], figsize=(12, 7))\n",
    "\n",
    "# Set the title and labels\n",
    "plt.title(\"Bivariate Analysis: Term vs Loan Status\")\n",
    "plt.xlabel(\"Term Categories\")\n",
    "plt.ylabel(\"Count\")\n",
    "\n",
    "# Display the plot\n",
    "plt.legend(title='Column2')\n",
    "plt.show()\n"
   ]
  },
  {
   "cell_type": "code",
   "execution_count": null,
   "id": "ac0a7a47",
   "metadata": {},
   "outputs": [],
   "source": [
    "# Plotting Count Plot for Employment Length In Years.\n",
    "\n",
    "plt.figure(figsize=(16,7))\n",
    "sea.set(style=\"whitegrid\")\n",
    "ax = sns.countplot(x='Term', hue='Loan Status',data=loan_df, palette='pastel')\n",
    "plt.title(\"Term vs Loan Status\")\n",
    "plt.xlabel(\"Term\")\n",
    "plt.ylabel(\"Number of Counts\")\n",
    "# plot.xticks(rotation=90)\n",
    "plt.show()\n"
   ]
  },
  {
   "cell_type": "code",
   "execution_count": null,
   "id": "4db3e45c",
   "metadata": {},
   "outputs": [],
   "source": []
  },
  {
   "cell_type": "code",
   "execution_count": null,
   "id": "cb827047",
   "metadata": {},
   "outputs": [],
   "source": [
    "plt.figure(figsize=(16,7))\n",
    "sea.set(style=\"whitegrid\")\n",
    "total_count = len(loan_df)\n",
    "\n",
    "# percentage_data = (loan_df['Term'].value_counts() / total_count) * 100\n",
    "ax = sea.countplot(x='Term', data=loan_df, palette='pastel')\n",
    "plt.title(\"Term vs Loan Status\")\n",
    "plt.xlabel(\"Term\")\n",
    "plt.ylabel(\"Number of Counts\")\n",
    "for p in ax.patches:\n",
    "    height = p.get_height()\n",
    "    ax.text(p.get_x() + p.get_width() / 2., height + 0.5, f'{height/total_count:.2%}', ha=\"center\")\n",
    "\n",
    "# Set y-axis labels as percentages\n",
    "ax.set_yticklabels(['{:,.2%}'.format(x/total_count) for x in ax.get_yticks()])\n",
    "\n",
    "# plot.xticks(rotation=90)\n",
    "plt.show()"
   ]
  },
  {
   "cell_type": "code",
   "execution_count": null,
   "id": "6dee77e8",
   "metadata": {},
   "outputs": [],
   "source": [
    "import seaborn as sns\n",
    "import matplotlib.pyplot as plt\n",
    "\n",
    "# Assuming 'loan_df' is your DataFrame\n",
    "plt.figure(figsize=(16, 7))\n",
    "sns.set(style=\"whitegrid\")\n",
    "\n",
    "# Calculate the ratio of 'Charged Off' for each category\n",
    "charge_off_ratio = loan_df.groupby('Term')['Loan Status'].apply(lambda x: (x == 'Charged Off').mean() * 100).reset_index()\n",
    "\n",
    "# Create a bar plot for 'Term' vs 'Charged Off' ratio\n",
    "ax = sns.barplot(x='Term', y='Loan Status', data=charge_off_ratio, palette='pastel')\n",
    "\n",
    "# Set the title and labels\n",
    "plt.title(\"Term vs Ratio of Charged Off\")\n",
    "plt.xlabel(\"Term\")\n",
    "plt.ylabel(\"Ratio of Charged Off (%)\")\n",
    "\n",
    "# Display percentages on top of each bar\n",
    "for p in ax.patches:\n",
    "    height = p.get_height()\n",
    "    ax.text(p.get_x() + p.get_width() / 2., height + 0.5, f'{height:.1f}%', ha=\"center\")\n",
    "\n",
    "# Display the plot\n",
    "plt.show()\n"
   ]
  },
  {
   "cell_type": "code",
   "execution_count": null,
   "id": "a3959622",
   "metadata": {},
   "outputs": [],
   "source": [
    "def analysis_vs_loan_status(df, col):\n",
    "    fig, p = plot.subplots(1,2, figsize=(16, 4))\n",
    "    splot = sea.countplot(df[col], ax=p[0])\n",
    "    splot.set_xticklabels(splot.get_xticklabels(), rotation=90);\n",
    "    p[0].set_title('['+ col + '] - loan_status=all')\n",
    "    cross_tab = pd.crosstab(df[col], df['loan_status'], normalize='index')\n",
    "    cross_tab.plot.bar(ax=p[1], stacked=True)\n",
    "    p[1].set_title('['+ col + '] - Stacked')\n",
    "    plot.show()\n",
    "\n",
    "\n",
    "def continious_column_analysis(df, column):\n",
    "    f, (ax1, ax2) = plot.subplots(nrows=1, ncols=2, figsize=(16,4))\n",
    "    sea.distplot(df.loc[df[column].notnull(), column], kde=True, hist=True, ax=ax1)\n",
    "    sea.boxplot(x=column, y='loan_status', data=df, ax=ax2)\n",
    "    ax1.set_xlabel(column_titles[column])\n",
    "    ax2.set_xlabel(column_titles[column] + 'by Loan Status')\n",
    "    plot.tight_layout()\n",
    "    plot.show()\n",
    "    # return group by dataframe for display comparison\n",
    "    return df.groupby('loan_status')[column].describe()\n",
    "\n",
    "def comparison_loan_status(df, column):\n",
    "    df.groupby('loan_status')[column].value_counts().unstack().plot(kind='bar', figsize=[16,4])\n",
    "    plot.show()\n",
    "\n",
    "\n",
    "def ratio_wise(df, column):\n",
    "    rw = df.pivot_table(index=column, columns='loan_status', values='id', aggfunc=len).reset_index()\n",
    "    rw['total'] = rw['Charged Off'] + rw['Fully Paid']\n",
    "    rw['charge_off_ratio'] = round(rw['Charged Off'] / rw['total'] * 100)\n",
    "    rw.sort_values(by='total', ascending=False)\n",
    "    return rw\n",
    "\n",
    "def ratio_wise_plot(df, column, invert=False):\n",
    "    plot.figure(figsize=[20,8])\n",
    "    plot.title('Charged Off : ' + column_titles[column])\n",
    "    rw = ratio_wise(df, column)\n",
    "    if invert:\n",
    "        sea.barplot(rw['charge_off_ratio'], rw[column])\n",
    "    else:\n",
    "        sea.barplot(rw[column], rw['charge_off_ratio'])\n",
    "    plot.tight_layout()\n",
    "    plot.show()\n",
    "    return rw\n",
    "\n",
    "def series_plot(df, column, hue=None, annot=1):\n",
    "        temp = pd.Series()\n",
    "        fig, ax = plot.subplots(figsize=(20,14))\n",
    "        width = len(df[column].unique()) + 6 + 4 * len(temp.unique())\n",
    "        fig.set_size_inches(width , 7)\n",
    "        ax = sea.countplot(data = df, x=column, order=df[column].value_counts().index, hue=hue) \n",
    "        if annot == 1:\n",
    "            for p in ax.patches:\n",
    "                ax.annotate('{:1.1f}%'.format((p.get_height()*100)/float(len(df))), (p.get_x()+0.05, p.get_height()+20))  \n",
    "        elif annot == 2:\n",
    "            for p in ax.patches:\n",
    "                ax.annotate(p.get_height(), (p.get_x()+0.32, p.get_height()+20)) \n",
    "        del temp\n",
    "        plot.show()"
   ]
  },
  {
   "cell_type": "code",
   "execution_count": 262,
   "id": "dfa59c32",
   "metadata": {},
   "outputs": [
    {
     "ename": "TypeError",
     "evalue": "barplot() takes from 0 to 1 positional arguments but 2 were given",
     "output_type": "error",
     "traceback": [
      "\u001b[1;31m---------------------------------------------------------------------------\u001b[0m",
      "\u001b[1;31mTypeError\u001b[0m                                 Traceback (most recent call last)",
      "Cell \u001b[1;32mIn[262], line 1\u001b[0m\n\u001b[1;32m----> 1\u001b[0m \u001b[43mratio_wise_plot\u001b[49m\u001b[43m(\u001b[49m\u001b[43mloan_df\u001b[49m\u001b[43m,\u001b[49m\u001b[43m \u001b[49m\u001b[38;5;124;43m'\u001b[39;49m\u001b[38;5;124;43mpurpose\u001b[39;49m\u001b[38;5;124;43m'\u001b[39;49m\u001b[43m)\u001b[49m\n",
      "Cell \u001b[1;32mIn[200], line 42\u001b[0m, in \u001b[0;36mratio_wise_plot\u001b[1;34m(df, column, invert)\u001b[0m\n\u001b[0;32m     40\u001b[0m     sea\u001b[38;5;241m.\u001b[39mbarplot(rw[\u001b[38;5;124m'\u001b[39m\u001b[38;5;124mcharge_off_ratio\u001b[39m\u001b[38;5;124m'\u001b[39m], rw[column])\n\u001b[0;32m     41\u001b[0m \u001b[38;5;28;01melse\u001b[39;00m:\n\u001b[1;32m---> 42\u001b[0m     \u001b[43msea\u001b[49m\u001b[38;5;241;43m.\u001b[39;49m\u001b[43mbarplot\u001b[49m\u001b[43m(\u001b[49m\u001b[43mrw\u001b[49m\u001b[43m[\u001b[49m\u001b[43mcolumn\u001b[49m\u001b[43m]\u001b[49m\u001b[43m,\u001b[49m\u001b[43m \u001b[49m\u001b[43mrw\u001b[49m\u001b[43m[\u001b[49m\u001b[38;5;124;43m'\u001b[39;49m\u001b[38;5;124;43mcharge_off_ratio\u001b[39;49m\u001b[38;5;124;43m'\u001b[39;49m\u001b[43m]\u001b[49m\u001b[43m)\u001b[49m\n\u001b[0;32m     43\u001b[0m plot\u001b[38;5;241m.\u001b[39mtight_layout()\n\u001b[0;32m     44\u001b[0m plot\u001b[38;5;241m.\u001b[39mshow()\n",
      "\u001b[1;31mTypeError\u001b[0m: barplot() takes from 0 to 1 positional arguments but 2 were given"
     ]
    },
    {
     "data": {
      "image/png": "[encoded data removed]",
      "text/plain": [
       "<Figure size 2000x800 with 1 Axes>"
      ]
     },
     "metadata": {},
     "output_type": "display_data"
    }
   ],
   "source": [
    "ratio_wise_plot(loan_df, 'purpose')"
   ]
  },
  {
   "cell_type": "code",
   "execution_count": null,
   "id": "6bc537d6",
   "metadata": {},
   "outputs": [],
   "source": []
  },
  {
   "cell_type": "code",
   "execution_count": null,
   "id": "601abfee",
   "metadata": {},
   "outputs": [],
   "source": []
  },
  {
   "cell_type": "code",
   "execution_count": null,
   "id": "52e76f75",
   "metadata": {},
   "outputs": [],
   "source": []
  },
  {
   "cell_type": "code",
   "execution_count": null,
   "id": "a97be82f",
   "metadata": {},
   "outputs": [],
   "source": []
  },
  {
   "cell_type": "code",
   "execution_count": null,
   "id": "bdb4f6e5",
   "metadata": {},
   "outputs": [],
   "source": []
  },
  {
   "cell_type": "code",
   "execution_count": null,
   "id": "d4baad3f",
   "metadata": {},
   "outputs": [],
   "source": []
  },
  {
   "cell_type": "code",
   "execution_count": null,
   "id": "bd2a38cd",
   "metadata": {},
   "outputs": [],
   "source": []
  },
  {
   "cell_type": "code",
   "execution_count": null,
   "id": "f88c45c7",
   "metadata": {},
   "outputs": [],
   "source": []
  },
  {
   "cell_type": "code",
   "execution_count": null,
   "id": "56562390",
   "metadata": {},
   "outputs": [],
   "source": []
  },
  {
   "cell_type": "code",
   "execution_count": null,
   "id": "d896222b",
   "metadata": {},
   "outputs": [],
   "source": []
  },
  {
   "cell_type": "code",
   "execution_count": null,
   "id": "0ba9afcf",
   "metadata": {},
   "outputs": [],
   "source": []
  },
  {
   "cell_type": "code",
   "execution_count": null,
   "id": "d8878dec",
   "metadata": {},
   "outputs": [],
   "source": []
  },
  {
   "cell_type": "code",
   "execution_count": null,
   "id": "fde971f0",
   "metadata": {},
   "outputs": [],
   "source": []
  },
  {
   "cell_type": "code",
   "execution_count": null,
   "id": "4f580a47",
   "metadata": {},
   "outputs": [],
   "source": []
  },
  {
   "cell_type": "code",
   "execution_count": null,
   "id": "601a4ddb",
   "metadata": {},
   "outputs": [],
   "source": []
  },
  {
   "cell_type": "code",
   "execution_count": null,
   "id": "511aa25b",
   "metadata": {},
   "outputs": [],
   "source": []
  },
  {
   "cell_type": "code",
   "execution_count": null,
   "id": "60a0019c",
   "metadata": {},
   "outputs": [],
   "source": []
  },
  {
   "cell_type": "code",
   "execution_count": null,
   "id": "231cb6cb",
   "metadata": {},
   "outputs": [],
   "source": []
  },
  {
   "cell_type": "code",
   "execution_count": null,
   "id": "e013448d",
   "metadata": {},
   "outputs": [],
   "source": []
  },
  {
   "cell_type": "code",
   "execution_count": null,
   "id": "bd320f21",
   "metadata": {},
   "outputs": [],
   "source": []
  },
  {
   "cell_type": "code",
   "execution_count": null,
   "id": "b8d95ee2",
   "metadata": {},
   "outputs": [],
   "source": []
  },
  {
   "cell_type": "code",
   "execution_count": null,
   "id": "de02c78d",
   "metadata": {},
   "outputs": [],
   "source": []
  },
  {
   "cell_type": "code",
   "execution_count": null,
   "id": "6fb9d8fe",
   "metadata": {},
   "outputs": [],
   "source": []
  },
  {
   "cell_type": "code",
   "execution_count": null,
   "id": "ccb3339a",
   "metadata": {},
   "outputs": [],
   "source": []
  },
  {
   "cell_type": "code",
   "execution_count": null,
   "id": "75905846",
   "metadata": {},
   "outputs": [],
   "source": []
  },
  {
   "cell_type": "code",
   "execution_count": null,
   "id": "df12c225",
   "metadata": {},
   "outputs": [],
   "source": []
  },
  {
   "cell_type": "code",
   "execution_count": null,
   "id": "c4cb1381",
   "metadata": {},
   "outputs": [],
   "source": []
  },
  {
   "cell_type": "code",
   "execution_count": null,
   "id": "b9d354bc",
   "metadata": {},
   "outputs": [],
   "source": []
  },
  {
   "cell_type": "code",
   "execution_count": null,
   "id": "1ca4b116",
   "metadata": {},
   "outputs": [],
   "source": []
  },
  {
   "cell_type": "code",
   "execution_count": null,
   "id": "9ce0bfd3",
   "metadata": {},
   "outputs": [],
   "source": []
  },
  {
   "cell_type": "code",
   "execution_count": null,
   "id": "5ec8a2f6",
   "metadata": {},
   "outputs": [],
   "source": []
  },
  {
   "cell_type": "code",
   "execution_count": null,
   "id": "f6273338",
   "metadata": {},
   "outputs": [],
   "source": []
  },
  {
   "cell_type": "code",
   "execution_count": null,
   "id": "d90702b3",
   "metadata": {},
   "outputs": [],
   "source": []
  },
  {
   "cell_type": "code",
   "execution_count": null,
   "id": "6537405e",
   "metadata": {},
   "outputs": [],
   "source": []
  },
  {
   "cell_type": "code",
   "execution_count": null,
   "id": "cf03dff4",
   "metadata": {},
   "outputs": [],
   "source": []
  },
  {
   "cell_type": "code",
   "execution_count": null,
   "id": "80e01dd6",
   "metadata": {},
   "outputs": [],
   "source": []
  },
  {
   "cell_type": "code",
   "execution_count": null,
   "id": "bf8f087d",
   "metadata": {},
   "outputs": [],
   "source": []
  },
  {
   "cell_type": "code",
   "execution_count": null,
   "id": "4ab6fcec",
   "metadata": {},
   "outputs": [],
   "source": []
  },
  {
   "cell_type": "code",
   "execution_count": null,
   "id": "782f9fec",
   "metadata": {},
   "outputs": [],
   "source": []
  },
  {
   "cell_type": "code",
   "execution_count": null,
   "id": "ed3f765f",
   "metadata": {},
   "outputs": [],
   "source": []
  },
  {
   "cell_type": "code",
   "execution_count": null,
   "id": "8293e4fc",
   "metadata": {},
   "outputs": [],
   "source": []
  },
  {
   "cell_type": "code",
   "execution_count": null,
   "id": "c869ac61",
   "metadata": {},
   "outputs": [],
   "source": []
  },
  {
   "cell_type": "code",
   "execution_count": null,
   "id": "066e6251",
   "metadata": {},
   "outputs": [],
   "source": []
  },
  {
   "cell_type": "code",
   "execution_count": null,
   "id": "149437d0",
   "metadata": {},
   "outputs": [],
   "source": []
  },
  {
   "cell_type": "code",
   "execution_count": null,
   "id": "086f2237",
   "metadata": {},
   "outputs": [],
   "source": []
  },
  {
   "cell_type": "code",
   "execution_count": null,
   "id": "adab723a",
   "metadata": {},
   "outputs": [],
   "source": []
  },
  {
   "cell_type": "code",
   "execution_count": null,
   "id": "2c5a476d",
   "metadata": {},
   "outputs": [],
   "source": []
  },
  {
   "cell_type": "code",
   "execution_count": null,
   "id": "2b030e50",
   "metadata": {},
   "outputs": [],
   "source": []
  },
  {
   "cell_type": "code",
   "execution_count": null,
   "id": "0af5be07",
   "metadata": {},
   "outputs": [],
   "source": []
  }
 ],
 "metadata": {
  "kernelspec": {
   "display_name": "Python 3 (ipykernel)",
   "language": "python",
   "name": "python3"
  },
  "language_info": {
   "codemirror_mode": {
    "name": "ipython",
    "version": 3
   },
   "file_extension": ".py",
   "mimetype": "text/x-python",
   "name": "python",
   "nbconvert_exporter": "python",
   "pygments_lexer": "ipython3",
   "version": "3.10.9"
  }
 },
 "nbformat": 4,
 "nbformat_minor": 5
}
